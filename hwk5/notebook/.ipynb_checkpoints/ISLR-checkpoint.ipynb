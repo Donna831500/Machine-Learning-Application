{
 "cells": [
  {
   "cell_type": "code",
   "execution_count": 11,
   "metadata": {},
   "outputs": [],
   "source": [
    "import pandas as pd\n",
    "import matplotlib.pyplot as plt \n",
    "import seaborn\n",
    "import numpy as np\n",
    "from sklearn.neighbors import KNeighborsClassifier\n",
    "from sklearn.metrics import confusion_matrix\n",
    "import math\n",
    "from IPython.display import display\n",
    "import warnings\n",
    "import statistics\n",
    "warnings.filterwarnings('ignore')\n"
   ]
  },
  {
   "cell_type": "markdown",
   "metadata": {},
   "source": [
    "<h7>\n",
    "a) As s increase from 0 to infinity, the training RSS will steadily decrease. \n",
    "As s increase, the effect of x will increase and the model will be close to linear regression model, which fit the training data better. \n",
    "    <br>\n",
    "b) As s increase from 0 to infinity, the test RSS will decrease initially, and then eventually start increasing in a U shape.\n",
    "Because s increase, the model become more flexible, which will decrease the test error at first. \n",
    "As it getting more and more flexible, the overfitting occurs, which will cause increase in test RSS.\n",
    "    <br>\n",
    "c) As s increase from 0 to infinity, the variance will steadily increase. \n",
    "As s increase, the model become closer to a nature linear model, which has larger flexibility, so the variance will increase.\n",
    "    <br>\n",
    "d) As s increase from 0 to infinity, the bias will steadily decrease.\n",
    "As s increase, the flexibility increase, so the variance will increase, as a trade-off, the bias will decrease.\n",
    "    <br>\n",
    "e) As s increase from 0 to infinity, the irreducible error will remain constant, \n",
    "because the irreducible error is independent from model, so no matter how the model restriction change, the irreducible error will remain same.\n",
    "    <br>\n",
    "<h7>"
   ]
  },
  {
   "cell_type": "code",
   "execution_count": 2,
   "metadata": {},
   "outputs": [
    {
     "name": "stdout",
     "output_type": "stream",
     "text": [
      "For majority vote approach, the final classification is Red, because 6 out of 10 has probability greater than 0.5.\n",
      "The average probability = 0.45\n",
      "For average probability approach, the final classification is Green, because average probability<0.5\n"
     ]
    }
   ],
   "source": [
    "print('For majority vote approach, the final classification is Red, because 6 out of 10 has probability greater than 0.5.')\n",
    "mean = (0.1+0.15+0.2+0.2+0.55+0.6+0.6+0.65+0.7+0.75)/10\n",
    "print('The average probability = '+str(mean))\n",
    "print('For average probability approach, the final classification is Green, because average probability<0.5')"
   ]
  },
  {
   "cell_type": "code",
   "execution_count": 37,
   "metadata": {},
   "outputs": [
    {
     "data": {
      "image/png": "[encoded data removed]",
      "text/plain": [
       "<Figure size 432x288 with 1 Axes>"
      ]
     },
     "metadata": {
      "needs_background": "light"
     },
     "output_type": "display_data"
    },
    {
     "name": "stdout",
     "output_type": "stream",
     "text": [
      "Equation: \n",
      "-0.5000000000000009+1.0*X1-X2=0\n"
     ]
    }
   ],
   "source": [
    "from sklearn import svm\n",
    "\n",
    "x1 = [3, 2, 4, 1, 2, 4, 4]\n",
    "x2 = [4, 2, 4, 4, 1, 3, 1]\n",
    "colors = [\"red\", \"red\", \"red\", \"red\", \"blue\", \"blue\", \"blue\"]\n",
    "\n",
    "plt.scatter(x1, x2, c =colors) \n",
    "\n",
    "data = [x1, x2]\n",
    "\n",
    "model = svm.SVC(kernel='linear', C=100)\n",
    "model.fit(list(np.array(data).T), colors)\n",
    "\n",
    "temp = list(model.coef_[0])\n",
    "slope = -temp[0] / temp[1]\n",
    "intersect = -(model.intercept_[0]) / temp[1]\n",
    "x = np.linspace(0, 5)\n",
    "\n",
    "y = slope * x + intersect\n",
    "plt.plot(x, y, c='black')\n",
    "\n",
    "plt.show() \n",
    "\n",
    "print('Equation: ')\n",
    "print(str(intersect)+'+'+str(slope)+'*X1-X2=0')"
   ]
  },
  {
   "cell_type": "code",
   "execution_count": null,
   "metadata": {},
   "outputs": [],
   "source": [
    "print('Classify to Blue if −0.5+X1−X2>0, and classify to Red otherwise.')\n",
    "print('beta0=0.5, beta1=1, beta2=-1')"
   ]
  },
  {
   "cell_type": "code",
   "execution_count": null,
   "metadata": {},
   "outputs": [],
   "source": [
    "print('For part d) and e), see the picture below.')\n",
    "print('You can check the notebook folder if the picture did not show successfully.')"
   ]
  },
  {
   "cell_type": "code",
   "execution_count": null,
   "metadata": {},
   "outputs": [],
   "source": [
    "# part f)\n",
    "print('Since observation 7 is far from the hyperplane, and the hyperplane is only depend on the four support vectors,')\n",
    "print('therefore, slight movement of observation 7 will not affect the hyperplane.')"
   ]
  },
  {
   "cell_type": "code",
   "execution_count": 38,
   "metadata": {},
   "outputs": [
    {
     "data": {
      "image/png": "[encoded data removed]",
      "text/plain": [
       "<Figure size 432x288 with 1 Axes>"
      ]
     },
     "metadata": {
      "needs_background": "light"
     },
     "output_type": "display_data"
    },
    {
     "name": "stdout",
     "output_type": "stream",
     "text": [
      "Equation: \n",
      "0.1+0.8*X1-X2=0\n"
     ]
    }
   ],
   "source": [
    "# part g)\n",
    "from sklearn import svm\n",
    "\n",
    "x1 = [3, 2, 4, 1, 2, 4, 4]\n",
    "x2 = [4, 2, 4, 4, 1, 3, 1]\n",
    "colors = [\"red\", \"red\", \"red\", \"red\", \"blue\", \"blue\", \"blue\"]\n",
    "\n",
    "plt.scatter(x1, x2, c =colors) \n",
    "\n",
    "slope=0.8\n",
    "intersect=0.1\n",
    "\n",
    "x = np.linspace(0, 5)\n",
    "\n",
    "y = slope * x + intersect\n",
    "plt.plot(x, y, c='black')\n",
    "\n",
    "plt.show() \n",
    "\n",
    "print('Equation: ')\n",
    "print(str(intersect)+'+'+str(slope)+'*X1-X2=0')"
   ]
  },
  {
   "cell_type": "code",
   "execution_count": 40,
   "metadata": {},
   "outputs": [
    {
     "data": {
      "image/png": "[encoded data removed]",
      "text/plain": [
       "<Figure size 432x288 with 1 Axes>"
      ]
     },
     "metadata": {
      "needs_background": "light"
     },
     "output_type": "display_data"
    }
   ],
   "source": [
    "# part h)\n",
    "from sklearn import svm\n",
    "\n",
    "x1 = [3, 2, 4, 1, 2, 4, 4, 1]\n",
    "x2 = [4, 2, 4, 4, 1, 3, 1, 3]\n",
    "colors = [\"red\", \"red\", \"red\", \"red\", \"blue\", \"blue\", \"blue\", \"blue\"]\n",
    "\n",
    "plt.scatter(x1, x2, c =colors) \n",
    "\n",
    "\n",
    "plt.show() \n"
   ]
  }
 ],
 "metadata": {
  "kernelspec": {
   "display_name": "Python 3",
   "language": "python",
   "name": "python3"
  },
  "language_info": {
   "codemirror_mode": {
    "name": "ipython",
    "version": 3
   },
   "file_extension": ".py",
   "mimetype": "text/x-python",
   "name": "python",
   "nbconvert_exporter": "python",
   "pygments_lexer": "ipython3",
   "version": "3.8.3"
  }
 },
 "nbformat": 4,
 "nbformat_minor": 4
}
