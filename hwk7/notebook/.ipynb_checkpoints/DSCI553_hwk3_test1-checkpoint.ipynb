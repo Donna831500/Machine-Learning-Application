{
 "cells": [
  {
   "cell_type": "markdown",
   "metadata": {},
   "source": [
    "<h4>\n",
    "    DSCI 552 Homework 7<br>\n",
    "    Name: Yuhui Zou<br>\n",
    "    USC ID: 1812969805\n",
    "<h4>"
   ]
  },
  {
   "cell_type": "code",
   "execution_count": 1,
   "metadata": {
    "colab": {
     "base_uri": "https://localhost:8080/"
    },
    "id": "HD9WgJbVKiig",
    "outputId": "76e08604-d477-4eee-9642-1be5f8255741"
   },
   "outputs": [
    {
     "name": "stdout",
     "output_type": "stream",
     "text": [
      "Drive already mounted at /content/drive; to attempt to forcibly remount, call drive.mount(\"/content/drive\", force_remount=True).\n"
     ]
    }
   ],
   "source": [
    "#from google.colab import drive\n",
    "#drive.mount(\"/content/drive\")"
   ]
  },
  {
   "cell_type": "code",
   "execution_count": 2,
   "metadata": {
    "id": "A7Gf9g88RMXF"
   },
   "outputs": [],
   "source": [
    "import pandas as pd\n",
    "import matplotlib.pyplot as plt \n",
    "import seaborn\n",
    "import numpy as np\n",
    "from sklearn.neighbors import KNeighborsClassifier\n",
    "from sklearn.metrics import confusion_matrix,roc_curve,auc\n",
    "import math\n",
    "from IPython.display import display\n",
    "import warnings\n",
    "import statistics\n",
    "warnings.filterwarnings('ignore')\n",
    "import sklearn.model_selection as model_selection\n",
    "from sklearn import svm\n",
    "from sklearn.svm import SVC\n",
    "from sklearn.model_selection import GridSearchCV\n",
    "from sklearn.svm import LinearSVC\n",
    "from sklearn import preprocessing\n",
    "from sklearn.pipeline import Pipeline\n",
    "import pickle\n",
    "import re"
   ]
  },
  {
   "cell_type": "code",
   "execution_count": 3,
   "metadata": {},
   "outputs": [],
   "source": [
    "import xgboost as xgb"
   ]
  },
  {
   "cell_type": "code",
   "execution_count": 5,
   "metadata": {},
   "outputs": [
    {
     "name": "stdout",
     "output_type": "stream",
     "text": [
      "Collecting package metadata (current_repodata.json): ...working... done\n",
      "Solving environment: ...working... done\n",
      "\n",
      "# All requested packages already installed.\n",
      "\n",
      "\n",
      "Note: you may need to restart the kernel to use updated packages.\n"
     ]
    }
   ],
   "source": [
    "%conda install -c conda-forge findspark"
   ]
  },
  {
   "cell_type": "code",
   "execution_count": 7,
   "metadata": {},
   "outputs": [
    {
     "data": {
      "text/plain": [
       "'C:\\\\spark-2.4.7-bin-hadoop2.7'"
      ]
     },
     "execution_count": 7,
     "metadata": {},
     "output_type": "execute_result"
    }
   ],
   "source": [
    "import findspark\n",
    "findspark.init()\n",
    "findspark.find()"
   ]
  },
  {
   "cell_type": "code",
   "execution_count": 15,
   "metadata": {},
   "outputs": [
    {
     "name": "stderr",
     "output_type": "stream",
     "text": [
      "UsageError: Line magic function `%PYSPARK_PYTHON=python3.6` not found.\n"
     ]
    }
   ],
   "source": [
    "%PYSPARK_PYTHON=python3.6 pyspark"
   ]
  },
  {
   "cell_type": "code",
   "execution_count": 14,
   "metadata": {},
   "outputs": [
    {
     "name": "stdout",
     "output_type": "stream",
     "text": [
      "3.8.3\n"
     ]
    }
   ],
   "source": [
    "from platform import python_version\n",
    "\n",
    "print(python_version())"
   ]
  },
  {
   "cell_type": "code",
   "execution_count": 16,
   "metadata": {},
   "outputs": [
    {
     "name": "stdout",
     "output_type": "stream",
     "text": [
      "^C\n",
      "\n",
      "Note: you may need to restart the kernel to use updated packages.\n"
     ]
    }
   ],
   "source": [
    "%conda install python=3.6.4"
   ]
  },
  {
   "cell_type": "code",
   "execution_count": 8,
   "metadata": {},
   "outputs": [
    {
     "ename": "TypeError",
     "evalue": "an integer is required (got type bytes)",
     "output_type": "error",
     "traceback": [
      "\u001b[1;31m---------------------------------------------------------------------------\u001b[0m",
      "\u001b[1;31mTypeError\u001b[0m                                 Traceback (most recent call last)",
      "\u001b[1;32m<ipython-input-8-49d7c4e178f8>\u001b[0m in \u001b[0;36m<module>\u001b[1;34m\u001b[0m\n\u001b[1;32m----> 1\u001b[1;33m \u001b[1;32mimport\u001b[0m \u001b[0mpyspark\u001b[0m\u001b[1;33m\u001b[0m\u001b[1;33m\u001b[0m\u001b[0m\n\u001b[0m",
      "\u001b[1;32mC:\\spark-2.4.7-bin-hadoop2.7\\python\\pyspark\\__init__.py\u001b[0m in \u001b[0;36m<module>\u001b[1;34m\u001b[0m\n\u001b[0;32m     49\u001b[0m \u001b[1;33m\u001b[0m\u001b[0m\n\u001b[0;32m     50\u001b[0m \u001b[1;32mfrom\u001b[0m \u001b[0mpyspark\u001b[0m\u001b[1;33m.\u001b[0m\u001b[0mconf\u001b[0m \u001b[1;32mimport\u001b[0m \u001b[0mSparkConf\u001b[0m\u001b[1;33m\u001b[0m\u001b[1;33m\u001b[0m\u001b[0m\n\u001b[1;32m---> 51\u001b[1;33m \u001b[1;32mfrom\u001b[0m \u001b[0mpyspark\u001b[0m\u001b[1;33m.\u001b[0m\u001b[0mcontext\u001b[0m \u001b[1;32mimport\u001b[0m \u001b[0mSparkContext\u001b[0m\u001b[1;33m\u001b[0m\u001b[1;33m\u001b[0m\u001b[0m\n\u001b[0m\u001b[0;32m     52\u001b[0m \u001b[1;32mfrom\u001b[0m \u001b[0mpyspark\u001b[0m\u001b[1;33m.\u001b[0m\u001b[0mrdd\u001b[0m \u001b[1;32mimport\u001b[0m \u001b[0mRDD\u001b[0m\u001b[1;33m,\u001b[0m \u001b[0mRDDBarrier\u001b[0m\u001b[1;33m\u001b[0m\u001b[1;33m\u001b[0m\u001b[0m\n\u001b[0;32m     53\u001b[0m \u001b[1;32mfrom\u001b[0m \u001b[0mpyspark\u001b[0m\u001b[1;33m.\u001b[0m\u001b[0mfiles\u001b[0m \u001b[1;32mimport\u001b[0m \u001b[0mSparkFiles\u001b[0m\u001b[1;33m\u001b[0m\u001b[1;33m\u001b[0m\u001b[0m\n",
      "\u001b[1;32mC:\\spark-2.4.7-bin-hadoop2.7\\python\\pyspark\\context.py\u001b[0m in \u001b[0;36m<module>\u001b[1;34m\u001b[0m\n\u001b[0;32m     29\u001b[0m \u001b[1;32mfrom\u001b[0m \u001b[0mpy4j\u001b[0m\u001b[1;33m.\u001b[0m\u001b[0mprotocol\u001b[0m \u001b[1;32mimport\u001b[0m \u001b[0mPy4JError\u001b[0m\u001b[1;33m\u001b[0m\u001b[1;33m\u001b[0m\u001b[0m\n\u001b[0;32m     30\u001b[0m \u001b[1;33m\u001b[0m\u001b[0m\n\u001b[1;32m---> 31\u001b[1;33m \u001b[1;32mfrom\u001b[0m \u001b[0mpyspark\u001b[0m \u001b[1;32mimport\u001b[0m \u001b[0maccumulators\u001b[0m\u001b[1;33m\u001b[0m\u001b[1;33m\u001b[0m\u001b[0m\n\u001b[0m\u001b[0;32m     32\u001b[0m \u001b[1;32mfrom\u001b[0m \u001b[0mpyspark\u001b[0m\u001b[1;33m.\u001b[0m\u001b[0maccumulators\u001b[0m \u001b[1;32mimport\u001b[0m \u001b[0mAccumulator\u001b[0m\u001b[1;33m\u001b[0m\u001b[1;33m\u001b[0m\u001b[0m\n\u001b[0;32m     33\u001b[0m \u001b[1;32mfrom\u001b[0m \u001b[0mpyspark\u001b[0m\u001b[1;33m.\u001b[0m\u001b[0mbroadcast\u001b[0m \u001b[1;32mimport\u001b[0m \u001b[0mBroadcast\u001b[0m\u001b[1;33m,\u001b[0m \u001b[0mBroadcastPickleRegistry\u001b[0m\u001b[1;33m\u001b[0m\u001b[1;33m\u001b[0m\u001b[0m\n",
      "\u001b[1;32mC:\\spark-2.4.7-bin-hadoop2.7\\python\\pyspark\\accumulators.py\u001b[0m in \u001b[0;36m<module>\u001b[1;34m\u001b[0m\n\u001b[0;32m     95\u001b[0m     \u001b[1;32mimport\u001b[0m \u001b[0msocketserver\u001b[0m \u001b[1;32mas\u001b[0m \u001b[0mSocketServer\u001b[0m\u001b[1;33m\u001b[0m\u001b[1;33m\u001b[0m\u001b[0m\n\u001b[0;32m     96\u001b[0m \u001b[1;32mimport\u001b[0m \u001b[0mthreading\u001b[0m\u001b[1;33m\u001b[0m\u001b[1;33m\u001b[0m\u001b[0m\n\u001b[1;32m---> 97\u001b[1;33m \u001b[1;32mfrom\u001b[0m \u001b[0mpyspark\u001b[0m\u001b[1;33m.\u001b[0m\u001b[0mserializers\u001b[0m \u001b[1;32mimport\u001b[0m \u001b[0mread_int\u001b[0m\u001b[1;33m,\u001b[0m \u001b[0mPickleSerializer\u001b[0m\u001b[1;33m\u001b[0m\u001b[1;33m\u001b[0m\u001b[0m\n\u001b[0m\u001b[0;32m     98\u001b[0m \u001b[1;33m\u001b[0m\u001b[0m\n\u001b[0;32m     99\u001b[0m \u001b[1;33m\u001b[0m\u001b[0m\n",
      "\u001b[1;32mC:\\spark-2.4.7-bin-hadoop2.7\\python\\pyspark\\serializers.py\u001b[0m in \u001b[0;36m<module>\u001b[1;34m\u001b[0m\n\u001b[0;32m     70\u001b[0m     \u001b[0mxrange\u001b[0m \u001b[1;33m=\u001b[0m \u001b[0mrange\u001b[0m\u001b[1;33m\u001b[0m\u001b[1;33m\u001b[0m\u001b[0m\n\u001b[0;32m     71\u001b[0m \u001b[1;33m\u001b[0m\u001b[0m\n\u001b[1;32m---> 72\u001b[1;33m \u001b[1;32mfrom\u001b[0m \u001b[0mpyspark\u001b[0m \u001b[1;32mimport\u001b[0m \u001b[0mcloudpickle\u001b[0m\u001b[1;33m\u001b[0m\u001b[1;33m\u001b[0m\u001b[0m\n\u001b[0m\u001b[0;32m     73\u001b[0m \u001b[1;32mfrom\u001b[0m \u001b[0mpyspark\u001b[0m\u001b[1;33m.\u001b[0m\u001b[0mutil\u001b[0m \u001b[1;32mimport\u001b[0m \u001b[0m_exception_message\u001b[0m\u001b[1;33m\u001b[0m\u001b[1;33m\u001b[0m\u001b[0m\n\u001b[0;32m     74\u001b[0m \u001b[1;33m\u001b[0m\u001b[0m\n",
      "\u001b[1;32mC:\\spark-2.4.7-bin-hadoop2.7\\python\\pyspark\\cloudpickle.py\u001b[0m in \u001b[0;36m<module>\u001b[1;34m\u001b[0m\n\u001b[0;32m    143\u001b[0m \u001b[1;33m\u001b[0m\u001b[0m\n\u001b[0;32m    144\u001b[0m \u001b[1;33m\u001b[0m\u001b[0m\n\u001b[1;32m--> 145\u001b[1;33m \u001b[0m_cell_set_template_code\u001b[0m \u001b[1;33m=\u001b[0m \u001b[0m_make_cell_set_template_code\u001b[0m\u001b[1;33m(\u001b[0m\u001b[1;33m)\u001b[0m\u001b[1;33m\u001b[0m\u001b[1;33m\u001b[0m\u001b[0m\n\u001b[0m\u001b[0;32m    146\u001b[0m \u001b[1;33m\u001b[0m\u001b[0m\n\u001b[0;32m    147\u001b[0m \u001b[1;33m\u001b[0m\u001b[0m\n",
      "\u001b[1;32mC:\\spark-2.4.7-bin-hadoop2.7\\python\\pyspark\\cloudpickle.py\u001b[0m in \u001b[0;36m_make_cell_set_template_code\u001b[1;34m()\u001b[0m\n\u001b[0;32m    124\u001b[0m         )\n\u001b[0;32m    125\u001b[0m     \u001b[1;32melse\u001b[0m\u001b[1;33m:\u001b[0m\u001b[1;33m\u001b[0m\u001b[1;33m\u001b[0m\u001b[0m\n\u001b[1;32m--> 126\u001b[1;33m         return types.CodeType(\n\u001b[0m\u001b[0;32m    127\u001b[0m             \u001b[0mco\u001b[0m\u001b[1;33m.\u001b[0m\u001b[0mco_argcount\u001b[0m\u001b[1;33m,\u001b[0m\u001b[1;33m\u001b[0m\u001b[1;33m\u001b[0m\u001b[0m\n\u001b[0;32m    128\u001b[0m             \u001b[0mco\u001b[0m\u001b[1;33m.\u001b[0m\u001b[0mco_kwonlyargcount\u001b[0m\u001b[1;33m,\u001b[0m\u001b[1;33m\u001b[0m\u001b[1;33m\u001b[0m\u001b[0m\n",
      "\u001b[1;31mTypeError\u001b[0m: an integer is required (got type bytes)"
     ]
    }
   ],
   "source": [
    "import pyspark"
   ]
  },
  {
   "cell_type": "code",
   "execution_count": 7,
   "metadata": {},
   "outputs": [
    {
     "ename": "ModuleNotFoundError",
     "evalue": "No module named 'pyspark'",
     "output_type": "error",
     "traceback": [
      "\u001b[1;31m---------------------------------------------------------------------------\u001b[0m",
      "\u001b[1;31mModuleNotFoundError\u001b[0m                       Traceback (most recent call last)",
      "\u001b[1;32m<ipython-input-7-573632128114>\u001b[0m in \u001b[0;36m<module>\u001b[1;34m\u001b[0m\n\u001b[1;32m----> 1\u001b[1;33m \u001b[1;32mfrom\u001b[0m \u001b[0mpyspark\u001b[0m \u001b[1;32mimport\u001b[0m \u001b[0mSparkContext\u001b[0m\u001b[1;33m\u001b[0m\u001b[1;33m\u001b[0m\u001b[0m\n\u001b[0m\u001b[0;32m      2\u001b[0m \u001b[1;32mfrom\u001b[0m \u001b[0mpyspark\u001b[0m \u001b[1;32mimport\u001b[0m \u001b[0mSparkConf\u001b[0m\u001b[1;33m\u001b[0m\u001b[1;33m\u001b[0m\u001b[0m\n",
      "\u001b[1;31mModuleNotFoundError\u001b[0m: No module named 'pyspark'"
     ]
    }
   ],
   "source": [
    "from pyspark import SparkContext\n",
    "from pyspark import SparkConf"
   ]
  },
  {
   "cell_type": "code",
   "execution_count": 3,
   "metadata": {
    "id": "h2VfXdxoKv41"
   },
   "outputs": [],
   "source": [
    "def unpickle(file):\n",
    "    with open(file, 'rb') as fo:\n",
    "        dict_data = pickle.load(fo, encoding='bytes')\n",
    "    return dict_data\n",
    "\n",
    "\n",
    "def get_bird_data(data_list,index_list):\n",
    "    result = []\n",
    "    for each_index in index_list:\n",
    "        result.append(list(data_list[each_index]))\n",
    "    return result\n",
    "\n",
    "def convert_to_vector(all_data):\n",
    "    R_list = []\n",
    "    G_list = []\n",
    "    B_list = []\n",
    "    for each_picture in all_data:\n",
    "        R_list = R_list+each_picture[:1024]\n",
    "        G_list = G_list+each_picture[1024:2048]\n",
    "        B_list = B_list+each_picture[2048:]\n",
    "        \n",
    "    data = {'R':R_list, 'G':G_list, 'B':B_list} \n",
    "    df = pd.DataFrame(data)\n",
    "    return df\n",
    "\n",
    "def df2ndarray(img_df):\n",
    "    if img_df.iloc[0,:].size==3:\n",
    "        return img_df.to_numpy().reshape(32,32,3)\n",
    "    elif img_df.iloc[0,:].size==4:\n",
    "        return img_df.to_numpy().reshape(32,32,4)\n",
    "    else:\n",
    "        return 'false'\n",
    "    \n",
    "def add_c1(row):\n",
    "    if row['label'] == 0 :\n",
    "        return 1\n",
    "    else:\n",
    "        return 0\n",
    "    \n",
    "def add_c2(row):\n",
    "    if row['label'] == 1 :\n",
    "        return 1\n",
    "    else:\n",
    "        return 0\n",
    "    \n",
    "def add_c3(row):\n",
    "    if row['label'] == 2 :\n",
    "        return 1\n",
    "    else:\n",
    "        return 0\n",
    "    \n",
    "def add_c4(row):\n",
    "    if row['label'] == 3 :\n",
    "        return 1\n",
    "    else:\n",
    "        return 0\n",
    "    \n",
    "def get_error(l):\n",
    "    result = []\n",
    "    for each in l:\n",
    "        result.append(1-each)\n",
    "    return result\n",
    "\n",
    "def add_R(row,label_with_color):\n",
    "    if row['c1'] == 1:\n",
    "        return label_with_color[0][0]\n",
    "    elif row['c2'] == 1:\n",
    "        return label_with_color[1][0]\n",
    "    elif row['c3'] == 1:\n",
    "        return label_with_color[2][0]\n",
    "    elif row['c4'] == 1:\n",
    "        return label_with_color[3][0]\n",
    "    else:\n",
    "        return 'false'\n",
    "    \n",
    "def add_G(row,label_with_color):\n",
    "    if row['c1'] == 1:\n",
    "        return label_with_color[0][1]\n",
    "    elif row['c2'] == 1:\n",
    "        return label_with_color[1][1]\n",
    "    elif row['c3'] == 1:\n",
    "        return label_with_color[2][1]\n",
    "    elif row['c4'] == 1:\n",
    "        return label_with_color[3][1]\n",
    "    else:\n",
    "        return 'false'\n",
    "    \n",
    "def add_B(row,label_with_color):\n",
    "    if row['c1'] == 1:\n",
    "        return label_with_color[0][2]\n",
    "    elif row['c2'] == 1:\n",
    "        return label_with_color[1][2]\n",
    "    elif row['c3'] == 1:\n",
    "        return label_with_color[2][2]\n",
    "    elif row['c4'] == 1:\n",
    "        return label_with_color[3][2]\n",
    "    else:\n",
    "        return 'false'\n",
    "    \n",
    "def to_RGB(img,label_with_color):\n",
    "    temp = img.reshape(1024,4)\n",
    "    df_img = pd.DataFrame(data=temp, columns=['c1','c2','c3','c4'])\n",
    "    df_img['R'] = df_img.apply (lambda row: add_R(row,label_with_color), axis=1)\n",
    "    df_img['G'] = df_img.apply (lambda row: add_G(row,label_with_color), axis=1)\n",
    "    df_img['B'] = df_img.apply (lambda row: add_B(row,label_with_color), axis=1)\n",
    "    df_img_rgb = df_img[['R','G','B']]\n",
    "    return df2ndarray(df_img_rgb)\n",
    "\n",
    "def add_label(row):\n",
    "    c_list = []\n",
    "    c_list.append(row['c1_prob'])\n",
    "    c_list.append(row['c2_prob'])\n",
    "    c_list.append(row['c3_prob'])\n",
    "    c_list.append(row['c4_prob'])\n",
    "    return c_list.index(max(c_list))\n",
    "\n",
    "def to_c1c2c3c4(img,label_with_color):\n",
    "    temp = img.reshape(1024,4)\n",
    "    df_img = pd.DataFrame(data=temp, columns=['c1_prob','c2_prob','c3_prob','c4_prob'])\n",
    "    df_img['label'] = df_img.apply (lambda row: add_label(row), axis=1)\n",
    "    df_img['c1'] = df_img.apply (lambda row: add_c1(row), axis=1)\n",
    "    df_img['c2'] = df_img.apply (lambda row: add_c2(row), axis=1)\n",
    "    df_img['c3'] = df_img.apply (lambda row: add_c3(row), axis=1)\n",
    "    df_img['c4'] = df_img.apply (lambda row: add_c4(row), axis=1)\n",
    "    df_4color = df_img[['c1','c2','c3','c4']]\n",
    "    return df_4color.to_numpy()\n",
    "\n",
    "def remove_punctuation(s):\n",
    "    s = s.replace('\\n', ' ')\n",
    "    s = s.replace('  ', ' ')\n",
    "    temp = s[1:]\n",
    "    p_list = ['\\r', '!', '\"', \"'\", '(', ')', '*', ',', '-', '.', ':', ';', '?', '[', ']', '_','′','″']\n",
    "    for p in p_list:\n",
    "        temp = temp.replace(p, '')\n",
    "    return temp\n",
    "\n",
    "def remove_extra(s):\n",
    "    s = re.sub('[^a-zA-Z]', ' ', s)\n",
    "    s = re.sub(r'\\s+', ' ', s)\n",
    "    return s.lower()\n",
    "\n",
    "def list2code(l,chars_list,chars_code):\n",
    "    result = []\n",
    "    for i in range(0,len(l)):\n",
    "        index = chars_list.index(l[i])\n",
    "        result.append(chars_code[index])\n",
    "    return result\n",
    "\n",
    "def char2code(c,chars_list,chars_code):\n",
    "    index = chars_list.index(c)\n",
    "    return chars_code[index]"
   ]
  },
  {
   "cell_type": "markdown",
   "metadata": {},
   "source": [
    "<h5>Question 1<h5>"
   ]
  },
  {
   "cell_type": "markdown",
   "metadata": {},
   "source": [
    "<h5>part (b)<h5>"
   ]
  },
  {
   "cell_type": "code",
   "execution_count": 4,
   "metadata": {
    "id": "urv3CBgmK1u0"
   },
   "outputs": [],
   "source": [
    "filename = \"../data/Book_Files/books/TPP.txt\"\n",
    "raw_text = open(filename, 'r', encoding='utf-8').read()\n",
    "raw_text_1 = raw_text[:]\n",
    "\n",
    "filename = \"../data/Book_Files/books/TAM.txt\"\n",
    "raw_text = open(filename, 'r', encoding='utf-8').read()\n",
    "raw_text_2 = raw_text[:]\n",
    "\n",
    "filename = \"../data/Book_Files/books/MLOE.txt\"\n",
    "raw_text = open(filename, 'r', encoding='utf-8').read()\n",
    "raw_text_3 = raw_text[:]\n",
    "\n",
    "filename = \"../data/Book_Files/books/OKEWFSMP.txt\"\n",
    "raw_text = open(filename, 'r', encoding='utf-8').read()\n",
    "raw_text_4 = raw_text[:]\n",
    "\n",
    "filename = \"../data/Book_Files/books/AIIMAT.txt\"\n",
    "raw_text = open(filename, 'r', encoding='utf-8').read()\n",
    "raw_text_5 = raw_text[:]"
   ]
  },
  {
   "cell_type": "markdown",
   "metadata": {},
   "source": [
    "<h5>part (c)<h5>"
   ]
  },
  {
   "cell_type": "markdown",
   "metadata": {},
   "source": [
    "<h5>i)<h5>"
   ]
  },
  {
   "cell_type": "code",
   "execution_count": 5,
   "metadata": {
    "id": "6Kfw81XfPCxn"
   },
   "outputs": [],
   "source": [
    "from keras.utils import np_utils\n",
    "raw_txt = raw_text_1+raw_text_2+raw_text_3+raw_text_4+raw_text_5\n",
    "raw_text = remove_extra(raw_text)"
   ]
  },
  {
   "cell_type": "markdown",
   "metadata": {},
   "source": [
    "<h5>ii)<h5>"
   ]
  },
  {
   "cell_type": "code",
   "execution_count": 6,
   "metadata": {
    "id": "0B21V9jTRn8y"
   },
   "outputs": [],
   "source": [
    "chars_list = sorted(list(set(raw_text)))\n",
    "chars_code = list(range(0, len(chars_list)))"
   ]
  },
  {
   "cell_type": "markdown",
   "metadata": {},
   "source": [
    "<h5>iii) to x)<h5>"
   ]
  },
  {
   "cell_type": "code",
   "execution_count": 7,
   "metadata": {
    "id": "R-fgzB2nQNAR"
   },
   "outputs": [],
   "source": [
    "W=100\n",
    "S=1\n",
    "X = []\n",
    "Y = []\n",
    "for i in range(0, len(raw_text)-W, S):\n",
    "    char99 = raw_text[i:i + W - 1]\n",
    "    char1 = raw_text[i + W - 1]\n",
    "    X.append(list2code(char99,chars_list,chars_code))\n",
    "    Y.append(char2code(char1,chars_list,chars_code))\n",
    "    #Y.append(char1)"
   ]
  },
  {
   "cell_type": "code",
   "execution_count": 8,
   "metadata": {
    "colab": {
     "base_uri": "https://localhost:8080/"
    },
    "id": "RskEpsB5QeVh",
    "outputId": "0ea8a48b-551f-427c-dd4f-0072f7e2d6da"
   },
   "outputs": [
    {
     "data": {
      "text/plain": [
       "(675392, 99)"
      ]
     },
     "execution_count": 8,
     "metadata": {
      "tags": []
     },
     "output_type": "execute_result"
    }
   ],
   "source": [
    "X_array = np.array(X)\n",
    "X_array.shape"
   ]
  },
  {
   "cell_type": "code",
   "execution_count": 9,
   "metadata": {
    "colab": {
     "base_uri": "https://localhost:8080/"
    },
    "id": "tYfUhJFBQf9n",
    "outputId": "4750d209-d578-451d-d373-c298c3bf952b"
   },
   "outputs": [
    {
     "data": {
      "text/plain": [
       "(675392, 99, 1)"
      ]
     },
     "execution_count": 9,
     "metadata": {
      "tags": []
     },
     "output_type": "execute_result"
    }
   ],
   "source": [
    "n_samples = X_array.shape[0]\n",
    "input_X = X_array.reshape(n_samples,W-1,1)\n",
    "input_X.shape"
   ]
  },
  {
   "cell_type": "code",
   "execution_count": 10,
   "metadata": {
    "id": "ciqxNOgFQhrQ"
   },
   "outputs": [],
   "source": [
    "input_Y = np_utils.to_categorical(Y, num_classes=len(chars_code))"
   ]
  },
  {
   "cell_type": "code",
   "execution_count": 11,
   "metadata": {
    "colab": {
     "base_uri": "https://localhost:8080/"
    },
    "id": "1qzCXEl_Qksp",
    "outputId": "2f2c5a74-0794-4cba-9d23-a4a858eb844e"
   },
   "outputs": [
    {
     "name": "stdout",
     "output_type": "stream",
     "text": [
      "Model: \"sequential\"\n",
      "_________________________________________________________________\n",
      "Layer (type)                 Output Shape              Param #   \n",
      "=================================================================\n",
      "lstm (LSTM)                  (None, 256)               264192    \n",
      "_________________________________________________________________\n",
      "dense (Dense)                (None, 27)                6939      \n",
      "=================================================================\n",
      "Total params: 271,131\n",
      "Trainable params: 271,131\n",
      "Non-trainable params: 0\n",
      "_________________________________________________________________\n"
     ]
    }
   ],
   "source": [
    "model = models.Sequential()\n",
    "model.add(layers.LSTM(256, input_shape=(input_X.shape[1],input_X.shape[2])))\n",
    "#model.add(Dropout(0.2))\n",
    "model.add(layers.Dense(len(chars_code),activation='softmax'))\n",
    "model.summary()"
   ]
  },
  {
   "cell_type": "code",
   "execution_count": 12,
   "metadata": {
    "id": "Z0opSn4SQmxc"
   },
   "outputs": [],
   "source": [
    "model.compile(optimizer='adam',\n",
    "              loss=tf.keras.losses.CategoricalCrossentropy(),#from_logits=True\n",
    "              metrics=['accuracy'])"
   ]
  },
  {
   "cell_type": "code",
   "execution_count": 13,
   "metadata": {
    "colab": {
     "base_uri": "https://localhost:8080/"
    },
    "id": "LoS9enBDQrUx",
    "outputId": "33cc7f76-0434-4aea-d131-c173eb871ceb"
   },
   "outputs": [
    {
     "name": "stdout",
     "output_type": "stream",
     "text": [
      "Epoch 1/30\n",
      "2639/2639 [==============================] - 61s 23ms/step - loss: 2.2212 - accuracy: 0.3543\n",
      "Epoch 2/30\n",
      "2639/2639 [==============================] - 63s 24ms/step - loss: 1.7349 - accuracy: 0.4976\n",
      "Epoch 3/30\n",
      "2639/2639 [==============================] - 63s 24ms/step - loss: 1.5698 - accuracy: 0.5439\n",
      "Epoch 4/30\n",
      "2639/2639 [==============================] - 63s 24ms/step - loss: 1.4786 - accuracy: 0.5691\n",
      "Epoch 5/30\n",
      "2639/2639 [==============================] - 63s 24ms/step - loss: 1.4174 - accuracy: 0.5866\n",
      "Epoch 6/30\n",
      "2639/2639 [==============================] - 63s 24ms/step - loss: 1.3717 - accuracy: 0.5992\n",
      "Epoch 7/30\n",
      "2639/2639 [==============================] - 63s 24ms/step - loss: 1.3359 - accuracy: 0.6093\n",
      "Epoch 8/30\n",
      "2639/2639 [==============================] - 63s 24ms/step - loss: 1.3068 - accuracy: 0.6170\n",
      "Epoch 9/30\n",
      "2639/2639 [==============================] - 62s 24ms/step - loss: 1.2822 - accuracy: 0.6239\n",
      "Epoch 10/30\n",
      "2639/2639 [==============================] - 62s 24ms/step - loss: 1.2613 - accuracy: 0.6294\n",
      "Epoch 11/30\n",
      "2639/2639 [==============================] - 62s 24ms/step - loss: 1.2427 - accuracy: 0.6336\n",
      "Epoch 12/30\n",
      "2639/2639 [==============================] - 62s 24ms/step - loss: 1.2265 - accuracy: 0.6382\n",
      "Epoch 13/30\n",
      "2639/2639 [==============================] - 62s 24ms/step - loss: 1.2115 - accuracy: 0.6416\n",
      "Epoch 14/30\n",
      "2639/2639 [==============================] - 62s 24ms/step - loss: 1.1990 - accuracy: 0.6452\n",
      "Epoch 15/30\n",
      "2639/2639 [==============================] - 62s 24ms/step - loss: 1.1868 - accuracy: 0.6483\n",
      "Epoch 16/30\n",
      "2639/2639 [==============================] - 62s 24ms/step - loss: 1.1760 - accuracy: 0.6511\n",
      "Epoch 17/30\n",
      "2639/2639 [==============================] - 62s 24ms/step - loss: 1.1662 - accuracy: 0.6537\n",
      "Epoch 18/30\n",
      "2639/2639 [==============================] - 63s 24ms/step - loss: 1.1565 - accuracy: 0.6567\n",
      "Epoch 19/30\n",
      "2639/2639 [==============================] - 62s 24ms/step - loss: 1.1480 - accuracy: 0.6584\n",
      "Epoch 20/30\n",
      "2639/2639 [==============================] - 62s 24ms/step - loss: 1.1404 - accuracy: 0.6603\n",
      "Epoch 21/30\n",
      "2639/2639 [==============================] - 62s 24ms/step - loss: 1.1321 - accuracy: 0.6625\n",
      "Epoch 22/30\n",
      "2639/2639 [==============================] - 62s 24ms/step - loss: 1.1251 - accuracy: 0.6641\n",
      "Epoch 23/30\n",
      "2639/2639 [==============================] - 62s 24ms/step - loss: 1.1188 - accuracy: 0.6655\n",
      "Epoch 24/30\n",
      "2639/2639 [==============================] - 62s 24ms/step - loss: 1.1124 - accuracy: 0.6673\n",
      "Epoch 25/30\n",
      "2639/2639 [==============================] - 62s 24ms/step - loss: 1.1066 - accuracy: 0.6691\n",
      "Epoch 26/30\n",
      "2639/2639 [==============================] - 62s 24ms/step - loss: 1.1012 - accuracy: 0.6701\n",
      "Epoch 27/30\n",
      "2639/2639 [==============================] - 62s 24ms/step - loss: 1.0960 - accuracy: 0.6718\n",
      "Epoch 28/30\n",
      "2639/2639 [==============================] - 62s 24ms/step - loss: 1.0913 - accuracy: 0.6727\n",
      "Epoch 29/30\n",
      "2639/2639 [==============================] - 62s 24ms/step - loss: 1.0862 - accuracy: 0.6741\n",
      "Epoch 30/30\n",
      "2639/2639 [==============================] - 62s 24ms/step - loss: 1.0826 - accuracy: 0.6747\n"
     ]
    }
   ],
   "source": [
    "history = model.fit(input_X, input_Y, epochs=30,batch_size=256)"
   ]
  },
  {
   "cell_type": "markdown",
   "metadata": {},
   "source": [
    "<h5>xi)<h5>"
   ]
  },
  {
   "cell_type": "code",
   "execution_count": 14,
   "metadata": {
    "id": "zVPfydzuWWTX"
   },
   "outputs": [],
   "source": [
    "raw_test = 'There are those who take mental phenomena naively, just as they would physical phenomena. This school of psychologists tends not to emphasize the object.'\n",
    "raw_test = remove_extra(raw_test)\n",
    "result_txt = raw_test[:]\n",
    "last_txt = raw_test[:]"
   ]
  },
  {
   "cell_type": "code",
   "execution_count": 15,
   "metadata": {
    "id": "R2f7bKCZZRh5"
   },
   "outputs": [],
   "source": [
    "for i in range(0,1000):\n",
    "  char99 = last_txt[-(W-1):]\n",
    "  temp = [list2code(char99,chars_list,chars_code)]\n",
    "  X_array = np.array(temp)\n",
    "  n_samples = X_array.shape[0]\n",
    "  X_test = X_array.reshape(n_samples,W-1,1)\n",
    "  predict_raw = model.predict(X_test)\n",
    "  y_predict = list(predict_raw[0])\n",
    "\n",
    "  max_index = y_predict.index(max(y_predict))\n",
    "  next_char = chars_list[max_index]\n",
    "  result_txt = result_txt+next_char\n",
    "  last_txt = last_txt+next_char"
   ]
  },
  {
   "cell_type": "code",
   "execution_count": 16,
   "metadata": {
    "colab": {
     "base_uri": "https://localhost:8080/",
     "height": 174
    },
    "id": "z5ijNg00dB-7",
    "outputId": "f3f0af97-576d-4978-801d-c2ae590424c4"
   },
   "outputs": [
    {
     "name": "stdout",
     "output_type": "stream",
     "text": [
      "The result generated text are shown below: \n",
      "\n"
     ]
    },
    {
     "data": {
      "application/vnd.google.colaboratory.intrinsic+json": {
       "type": "string"
      },
      "text/plain": [
       "'there are those who take mental phenomena naively just as they would physical phenomena this school of psychologists tends not to emphasize the object language as to the sentence is considered and the sentence is considered and the sentence is considered and the sentence is considered and the sentence is considered and the sentence is considered and the sentence is considered and the sentence is considered and the sentence is considered and the sentence is considered and the sentence is considered and the sentence is considered and the sentence is considered and the sentence is considered and the sentence is considered and the sentence is considered and the sentence is considered and the sentence is considered and the sentence is considered and the sentence is considered and the sentence is considered and the sentence is considered and the sentence is considered and the sentence is considered and the sentence is considered and the sentence is considered and the sentence is considered and the sentence is considered and the sentence is considered and the sentence is considered and the sentence is considered and the sentence is consider'"
      ]
     },
     "execution_count": 16,
     "metadata": {
      "tags": []
     },
     "output_type": "execute_result"
    }
   ],
   "source": [
    "print('The result generated text are shown below: \\n')\n",
    "result_txt"
   ]
  },
  {
   "cell_type": "markdown",
   "metadata": {
    "id": "CEl8f6c6eOB5"
   },
   "source": [
    "<h5>Problem 2<h5>"
   ]
  },
  {
   "cell_type": "markdown",
   "metadata": {},
   "source": [
    "<h5>part (b)<h5>"
   ]
  },
  {
   "cell_type": "code",
   "execution_count": 6,
   "metadata": {},
   "outputs": [],
   "source": [
    "# '../data/wdbc.csv'\n",
    "batch_path_list = ['../data/cifar_10_batches_py/data_batch_1',\n",
    "                  '../data/cifar_10_batches_py/data_batch_2',\n",
    "                  '../data/cifar_10_batches_py/data_batch_3',\n",
    "                  '../data/cifar_10_batches_py/data_batch_4',\n",
    "                  '../data/cifar_10_batches_py/data_batch_5',\n",
    "                  '../data/cifar_10_batches_py/test_batch']\n",
    "all_data = []\n",
    "for i in range(0,len(batch_path_list)):\n",
    "    batch_path = batch_path_list[i]\n",
    "    batch = unpickle(batch_path)\n",
    "    label_list = batch.get(b'labels')\n",
    "    bird_index_list = [i for i in range(len(label_list)) if label_list[i]==2]\n",
    "    data_list = batch.get(b'data')\n",
    "    result = get_bird_data(data_list,bird_index_list)\n",
    "    all_data = all_data+result"
   ]
  },
  {
   "cell_type": "markdown",
   "metadata": {},
   "source": [
    "<h5>part (c)<h5>"
   ]
  },
  {
   "cell_type": "code",
   "execution_count": 7,
   "metadata": {},
   "outputs": [],
   "source": [
    "df = convert_to_vector(all_data)"
   ]
  },
  {
   "cell_type": "markdown",
   "metadata": {},
   "source": [
    "<h5>part (d)<h5>"
   ]
  },
  {
   "cell_type": "code",
   "execution_count": 10,
   "metadata": {},
   "outputs": [
    {
     "data": {
      "text/plain": [
       "KMeans(n_clusters=4, n_jobs=-1)"
      ]
     },
     "execution_count": 10,
     "metadata": {},
     "output_type": "execute_result"
    }
   ],
   "source": [
    "from sklearn.cluster import KMeans\n",
    "kmeans = KMeans(n_clusters=4, n_jobs=-1)\n",
    "kmeans.fit(df)"
   ]
  },
  {
   "cell_type": "code",
   "execution_count": 11,
   "metadata": {},
   "outputs": [],
   "source": [
    "# assign color to each label\n",
    "navy = np.array((0,0,128))\n",
    "red = np.array((230,25,75))\n",
    "mint = np.array((170,255,195))\n",
    "white = np.array((255,255,255))\n",
    "color_list = [navy,red,mint,white]\n",
    "centers = kmeans.cluster_centers_\n",
    "label_with_color = []\n",
    "for i in range (0,len(centers)):\n",
    "    dist_list = []\n",
    "    for j in range(0,len(color_list)):\n",
    "        dist = np.linalg.norm(centers[i]-color_list[j])\n",
    "        dist_list.append(dist)\n",
    "    min_index = dist_list.index(min(dist_list))\n",
    "    label_with_color.append(color_list[min_index])\n",
    "    del color_list[min_index]"
   ]
  },
  {
   "cell_type": "code",
   "execution_count": 12,
   "metadata": {},
   "outputs": [],
   "source": [
    "df['label'] = kmeans.labels_\n",
    "df['c1'] = df.apply (lambda row: add_c1(row), axis=1)\n",
    "df['c2'] = df.apply (lambda row: add_c2(row), axis=1)\n",
    "df['c3'] = df.apply (lambda row: add_c3(row), axis=1)\n",
    "df['c4'] = df.apply (lambda row: add_c4(row), axis=1)\n",
    "df_4color = df[['c1','c2','c3','c4']]"
   ]
  },
  {
   "cell_type": "code",
   "execution_count": 13,
   "metadata": {},
   "outputs": [],
   "source": [
    "# convert to 4 color image\n",
    "rest_df = df_4color.copy()\n",
    "# train target\n",
    "train_img_list = []\n",
    "for i in range(0,5000):\n",
    "    current_img = rest_df.head(1024)\n",
    "    train_img_list.append(df2ndarray(current_img))\n",
    "    rest_df = rest_df.iloc[1024:]\n",
    "y_train = np.array(train_img_list)\n",
    "\n",
    "# test target\n",
    "test_img_list = []\n",
    "for i in range(0,1000):\n",
    "    current_img = rest_df.head(1024)\n",
    "    test_img_list.append(df2ndarray(current_img))\n",
    "    rest_df = rest_df.iloc[1024:]\n",
    "y_test = np.array(test_img_list)"
   ]
  },
  {
   "cell_type": "markdown",
   "metadata": {},
   "source": [
    "<h5>part (e)<h5>"
   ]
  },
  {
   "cell_type": "code",
   "execution_count": 14,
   "metadata": {},
   "outputs": [],
   "source": [
    "from skimage.color import rgb2gray\n",
    "df_RGB = df[['R','G','B']]"
   ]
  },
  {
   "cell_type": "code",
   "execution_count": 15,
   "metadata": {},
   "outputs": [
    {
     "name": "stdout",
     "output_type": "stream",
     "text": [
      "example grayscale image:\n"
     ]
    },
    {
     "data": {
      "text/plain": [
       "<matplotlib.image.AxesImage at 0x20508c82808>"
      ]
     },
     "execution_count": 15,
     "metadata": {},
     "output_type": "execute_result"
    },
    {
     "data": {
      "image/png": "[encoded data removed]",
      "text/plain": [
       "<Figure size 432x288 with 1 Axes>"
      ]
     },
     "metadata": {
      "needs_background": "light"
     },
     "output_type": "display_data"
    }
   ],
   "source": [
    "# convert to 4 color image\n",
    "rest_df = df_RGB.copy()\n",
    "# train target\n",
    "train_img_list = []\n",
    "for i in range(0,5000):\n",
    "    current_img = rest_df.head(1024)\n",
    "    grayscale = rgb2gray(current_img.to_numpy().reshape(32,32,3)).reshape(32,32,1)\n",
    "    norm_gray = grayscale / np.linalg.norm(grayscale)\n",
    "    train_img_list.append(norm_gray)\n",
    "    rest_df = rest_df.iloc[1024:]\n",
    "x_train = np.array(train_img_list)\n",
    "\n",
    "# test target\n",
    "test_img_list = []\n",
    "for i in range(0,1000):\n",
    "    current_img = rest_df.head(1024)\n",
    "    grayscale = rgb2gray(current_img.to_numpy().reshape(32,32,3)).reshape(32,32,1)\n",
    "    norm_gray = grayscale / np.linalg.norm(grayscale)\n",
    "    test_img_list.append(norm_gray)\n",
    "    rest_df = rest_df.iloc[1024:]\n",
    "x_test = np.array(test_img_list)\n",
    "\n",
    "print('example grayscale image:')\n",
    "plt.imshow(test_img_list[0],cmap=plt.cm.gray)"
   ]
  },
  {
   "cell_type": "markdown",
   "metadata": {},
   "source": [
    "<h5>part (f)<h5>"
   ]
  },
  {
   "cell_type": "code",
   "execution_count": 16,
   "metadata": {},
   "outputs": [
    {
     "name": "stdout",
     "output_type": "stream",
     "text": [
      "WARNING:tensorflow:From C:\\Users\\notya\\anaconda3\\envs\\env_try1\\lib\\site-packages\\tensorflow\\python\\ops\\init_ops.py:1251: calling VarianceScaling.__init__ (from tensorflow.python.ops.init_ops) with dtype is deprecated and will be removed in a future version.\n",
      "Instructions for updating:\n",
      "Call initializer instance with the dtype argument instead of passing it to the constructor\n",
      "Model: \"sequential\"\n",
      "_________________________________________________________________\n",
      "Layer (type)                 Output Shape              Param #   \n",
      "=================================================================\n",
      "conv2d (Conv2D)              (None, 32, 32, 32)        832       \n",
      "_________________________________________________________________\n",
      "max_pooling2d (MaxPooling2D) (None, 16, 16, 32)        0         \n",
      "_________________________________________________________________\n",
      "conv2d_1 (Conv2D)            (None, 16, 16, 64)        51264     \n",
      "_________________________________________________________________\n",
      "max_pooling2d_1 (MaxPooling2 (None, 8, 8, 64)          0         \n",
      "_________________________________________________________________\n",
      "reshape (Reshape)            (None, 32, 32, 4)         0         \n",
      "_________________________________________________________________\n",
      "softmax (Softmax)            (None, 32, 32, 4)         0         \n",
      "=================================================================\n",
      "Total params: 52,096\n",
      "Trainable params: 52,096\n",
      "Non-trainable params: 0\n",
      "_________________________________________________________________\n"
     ]
    }
   ],
   "source": [
    "model = models.Sequential()\n",
    "model.add(layers.Conv2D(32, (5, 5), activation='relu',padding='same', input_shape=(32, 32, 1)))\n",
    "model.add(layers.MaxPooling2D((2, 2)))\n",
    "model.add(layers.Conv2D(64, (5, 5), activation='relu',padding='same'))\n",
    "model.add(layers.MaxPooling2D((2, 2)))\n",
    "model.add(layers.Reshape((32, 32, 4)))\n",
    "#model.add(layers.Conv2D(4, (5, 5), activation='relu',padding='same'))\n",
    "#model.add(layers.Flatten())\n",
    "#model.add(layers.Dense(64, activation='relu'))\n",
    "#model.add(layers.Dense(4))\n",
    "\n",
    "model.add(layers.Softmax())#axis=-1\n",
    "model.summary()"
   ]
  },
  {
   "cell_type": "code",
   "execution_count": 17,
   "metadata": {},
   "outputs": [
    {
     "name": "stdout",
     "output_type": "stream",
     "text": [
      "Train on 5000 samples, validate on 1000 samples\n",
      "Epoch 1/30\n",
      "5000/5000 [==============================] - 8s 2ms/sample - loss: 1.3450 - acc: 0.3435 - val_loss: 1.3236 - val_acc: 0.3708\n",
      "Epoch 2/30\n",
      "5000/5000 [==============================] - 8s 2ms/sample - loss: 1.3045 - acc: 0.3851 - val_loss: 1.2991 - val_acc: 0.3928\n",
      "Epoch 3/30\n",
      "5000/5000 [==============================] - 8s 2ms/sample - loss: 1.2949 - acc: 0.3908 - val_loss: 1.2940 - val_acc: 0.3966\n",
      "Epoch 4/30\n",
      "5000/5000 [==============================] - 8s 2ms/sample - loss: 1.2905 - acc: 0.3956 - val_loss: 1.2919 - val_acc: 0.4003\n",
      "Epoch 5/30\n",
      "5000/5000 [==============================] - 8s 2ms/sample - loss: 1.2873 - acc: 0.3970 - val_loss: 1.2870 - val_acc: 0.4039\n",
      "Epoch 6/30\n",
      "5000/5000 [==============================] - 9s 2ms/sample - loss: 1.2841 - acc: 0.3996 - val_loss: 1.2860 - val_acc: 0.4069\n",
      "Epoch 7/30\n",
      "5000/5000 [==============================] - 8s 2ms/sample - loss: 1.2804 - acc: 0.4029 - val_loss: 1.2787 - val_acc: 0.4082\n",
      "Epoch 8/30\n",
      "5000/5000 [==============================] - 8s 2ms/sample - loss: 1.2761 - acc: 0.4067 - val_loss: 1.2771 - val_acc: 0.3990\n",
      "Epoch 9/30\n",
      "5000/5000 [==============================] - 8s 2ms/sample - loss: 1.2730 - acc: 0.4085 - val_loss: 1.2722 - val_acc: 0.4145\n",
      "Epoch 10/30\n",
      "5000/5000 [==============================] - 9s 2ms/sample - loss: 1.2697 - acc: 0.4124 - val_loss: 1.2725 - val_acc: 0.4099\n",
      "Epoch 11/30\n",
      "5000/5000 [==============================] - 9s 2ms/sample - loss: 1.2673 - acc: 0.4140 - val_loss: 1.2659 - val_acc: 0.4187\n",
      "Epoch 12/30\n",
      "5000/5000 [==============================] - 10s 2ms/sample - loss: 1.2654 - acc: 0.4165 - val_loss: 1.2654 - val_acc: 0.4181\n",
      "Epoch 13/30\n",
      "5000/5000 [==============================] - 9s 2ms/sample - loss: 1.2639 - acc: 0.4171 - val_loss: 1.2646 - val_acc: 0.4185\n",
      "Epoch 14/30\n",
      "5000/5000 [==============================] - 8s 2ms/sample - loss: 1.2630 - acc: 0.4179 - val_loss: 1.2633 - val_acc: 0.4181\n",
      "Epoch 15/30\n",
      "5000/5000 [==============================] - 8s 2ms/sample - loss: 1.2617 - acc: 0.4195 - val_loss: 1.2614 - val_acc: 0.4196\n",
      "Epoch 16/30\n",
      "5000/5000 [==============================] - 8s 2ms/sample - loss: 1.2607 - acc: 0.4198 - val_loss: 1.2601 - val_acc: 0.4217\n",
      "Epoch 17/30\n",
      "5000/5000 [==============================] - 8s 2ms/sample - loss: 1.2605 - acc: 0.4190 - val_loss: 1.2592 - val_acc: 0.4201\n",
      "Epoch 18/30\n",
      "5000/5000 [==============================] - 8s 2ms/sample - loss: 1.2590 - acc: 0.4205 - val_loss: 1.2577 - val_acc: 0.4217\n",
      "Epoch 19/30\n",
      "5000/5000 [==============================] - 9s 2ms/sample - loss: 1.2580 - acc: 0.4211 - val_loss: 1.2592 - val_acc: 0.4181\n",
      "Epoch 20/30\n",
      "5000/5000 [==============================] - 8s 2ms/sample - loss: 1.2573 - acc: 0.4216 - val_loss: 1.2560 - val_acc: 0.4230\n",
      "Epoch 21/30\n",
      "5000/5000 [==============================] - 8s 2ms/sample - loss: 1.2569 - acc: 0.4225 - val_loss: 1.2551 - val_acc: 0.4233\n",
      "Epoch 22/30\n",
      "5000/5000 [==============================] - 8s 2ms/sample - loss: 1.2571 - acc: 0.4213 - val_loss: 1.2543 - val_acc: 0.4244\n",
      "Epoch 23/30\n",
      "5000/5000 [==============================] - 8s 2ms/sample - loss: 1.2557 - acc: 0.4222 - val_loss: 1.2538 - val_acc: 0.4247\n",
      "Epoch 24/30\n",
      "5000/5000 [==============================] - 8s 2ms/sample - loss: 1.2549 - acc: 0.4226 - val_loss: 1.2525 - val_acc: 0.4252\n",
      "Epoch 25/30\n",
      "5000/5000 [==============================] - 9s 2ms/sample - loss: 1.2535 - acc: 0.4240 - val_loss: 1.2558 - val_acc: 0.4196\n",
      "Epoch 26/30\n",
      "5000/5000 [==============================] - 10s 2ms/sample - loss: 1.2535 - acc: 0.4241 - val_loss: 1.2512 - val_acc: 0.4257\n",
      "Epoch 27/30\n",
      "5000/5000 [==============================] - 9s 2ms/sample - loss: 1.2528 - acc: 0.4248 - val_loss: 1.2519 - val_acc: 0.4258\n",
      "Epoch 28/30\n",
      "5000/5000 [==============================] - 9s 2ms/sample - loss: 1.2527 - acc: 0.4240 - val_loss: 1.2506 - val_acc: 0.4240\n",
      "Epoch 29/30\n",
      "5000/5000 [==============================] - 10s 2ms/sample - loss: 1.2514 - acc: 0.4248 - val_loss: 1.2490 - val_acc: 0.4268\n",
      "Epoch 30/30\n",
      "5000/5000 [==============================] - 10s 2ms/sample - loss: 1.2504 - acc: 0.4259 - val_loss: 1.2495 - val_acc: 0.4277\n"
     ]
    }
   ],
   "source": [
    "model.compile(optimizer='adam',\n",
    "              loss=tf.keras.losses.CategoricalCrossentropy(),#from_logits=True\n",
    "              metrics=['accuracy'])\n",
    "history = model.fit(x_train, y_train, epochs=30, \n",
    "                    validation_data=(x_test, y_test))"
   ]
  },
  {
   "cell_type": "code",
   "execution_count": 18,
   "metadata": {},
   "outputs": [],
   "source": [
    "train_error = get_error(history.history['acc'])\n",
    "test_error = get_error(history.history['val_acc'])"
   ]
  },
  {
   "cell_type": "code",
   "execution_count": 19,
   "metadata": {},
   "outputs": [
    {
     "data": {
      "text/plain": [
       "<matplotlib.legend.Legend at 0x2048fb9bb48>"
      ]
     },
     "execution_count": 19,
     "metadata": {},
     "output_type": "execute_result"
    },
    {
     "data": {
      "image/png": "[encoded data removed]",
      "text/plain": [
       "<Figure size 432x288 with 1 Axes>"
      ]
     },
     "metadata": {
      "needs_background": "light"
     },
     "output_type": "display_data"
    }
   ],
   "source": [
    "plt.plot(train_error, label='train error')\n",
    "plt.plot(test_error, label = 'test error')\n",
    "plt.xlabel('Epoch')\n",
    "plt.ylabel('Error')\n",
    "plt.ylim([0.5, 0.7])\n",
    "plt.legend(loc='lower right')"
   ]
  },
  {
   "cell_type": "code",
   "execution_count": 20,
   "metadata": {},
   "outputs": [],
   "source": [
    "test_list = y_test[:10]\n",
    "origin_img_list = []\n",
    "for each_img in test_list:\n",
    "    df_img_rgb = to_RGB(each_img,label_with_color)\n",
    "    origin_img_list.append(df_img_rgb)"
   ]
  },
  {
   "cell_type": "code",
   "execution_count": 21,
   "metadata": {},
   "outputs": [],
   "source": [
    "y_predict = model.predict(x_test)\n",
    "predict_list = y_predict[:10]\n",
    "predict_img_list = []\n",
    "for each_img in predict_list:\n",
    "    temp_img = to_c1c2c3c4(each_img,label_with_color)\n",
    "    df_img_rgb = to_RGB(temp_img,label_with_color)\n",
    "    predict_img_list.append(df_img_rgb)"
   ]
  },
  {
   "cell_type": "code",
   "execution_count": 22,
   "metadata": {},
   "outputs": [
    {
     "name": "stdout",
     "output_type": "stream",
     "text": [
      "The left column are the original 4 color image and the right column are the artificially colored version.\n"
     ]
    },
    {
     "data": {
      "text/plain": [
       "<Figure size 432x288 with 0 Axes>"
      ]
     },
     "metadata": {},
     "output_type": "display_data"
    },
    {
     "data": {
      "image/png": "[encoded data removed]",
      "text/plain": [
       "<Figure size 720x7200 with 20 Axes>"
      ]
     },
     "metadata": {
      "needs_background": "light"
     },
     "output_type": "display_data"
    }
   ],
   "source": [
    "print('The left column are the original 4 color image and the right column are the artificially colored version.')\n",
    "plt.figure()\n",
    "fig, axarr = plt.subplots(10,2) \n",
    "\n",
    "axarr[0][0].imshow(origin_img_list[0])\n",
    "axarr[1][0].imshow(origin_img_list[1])\n",
    "axarr[2][0].imshow(origin_img_list[2])\n",
    "axarr[3][0].imshow(origin_img_list[3])\n",
    "axarr[4][0].imshow(origin_img_list[4])\n",
    "axarr[5][0].imshow(origin_img_list[5])\n",
    "axarr[6][0].imshow(origin_img_list[6])\n",
    "axarr[7][0].imshow(origin_img_list[7])\n",
    "axarr[8][0].imshow(origin_img_list[8])\n",
    "axarr[9][0].imshow(origin_img_list[9])\n",
    "\n",
    "axarr[0][1].imshow(predict_img_list[0])\n",
    "axarr[1][1].imshow(predict_img_list[1])\n",
    "axarr[2][1].imshow(predict_img_list[2])\n",
    "axarr[3][1].imshow(predict_img_list[3])\n",
    "axarr[4][1].imshow(predict_img_list[4])\n",
    "axarr[5][1].imshow(predict_img_list[5])\n",
    "axarr[6][1].imshow(predict_img_list[6])\n",
    "axarr[7][1].imshow(predict_img_list[7])\n",
    "axarr[8][1].imshow(predict_img_list[8])\n",
    "axarr[9][1].imshow(predict_img_list[9])\n",
    "\n",
    "fig.set_figheight(100)\n",
    "fig.set_figwidth(10)\n",
    "plt.show()"
   ]
  }
 ],
 "metadata": {
  "accelerator": "GPU",
  "colab": {
   "collapsed_sections": [],
   "name": "homework7.ipynb",
   "provenance": []
  },
  "kernelspec": {
   "display_name": "Python 3",
   "language": "python",
   "name": "python3"
  },
  "language_info": {
   "codemirror_mode": {
    "name": "ipython",
    "version": 3
   },
   "file_extension": ".py",
   "mimetype": "text/x-python",
   "name": "python",
   "nbconvert_exporter": "python",
   "pygments_lexer": "ipython3",
   "version": "3.8.3"
  }
 },
 "nbformat": 4,
 "nbformat_minor": 1
}
