{
 "cells": [
  {
   "cell_type": "markdown",
   "metadata": {},
   "source": [
    "<h4>\n",
    "    DSCI 552 Homework 6<br>\n",
    "    Name: Yuhui Zou<br>\n",
    "    USC ID: 1812969805\n",
    "<h4>"
   ]
  },
  {
   "cell_type": "code",
   "execution_count": 94,
   "metadata": {},
   "outputs": [],
   "source": [
    "import pandas as pd\n",
    "import matplotlib.pyplot as plt \n",
    "import seaborn\n",
    "import numpy as np\n",
    "from sklearn.neighbors import KNeighborsClassifier\n",
    "from sklearn.metrics import confusion_matrix,roc_curve,auc\n",
    "import math\n",
    "from IPython.display import display\n",
    "import warnings\n",
    "import statistics\n",
    "warnings.filterwarnings('ignore')\n",
    "import sklearn.model_selection as model_selection\n",
    "from sklearn import svm\n",
    "from sklearn.svm import SVC\n",
    "from sklearn.model_selection import GridSearchCV\n",
    "from sklearn.svm import LinearSVC\n",
    "from sklearn import preprocessing\n",
    "from sklearn.pipeline import Pipeline"
   ]
  },
  {
   "cell_type": "code",
   "execution_count": 95,
   "metadata": {},
   "outputs": [],
   "source": [
    "def convert_label(s):\n",
    "    if s=='B':\n",
    "        return 0;\n",
    "    elif s=='M':\n",
    "        return 1;"
   ]
  },
  {
   "cell_type": "markdown",
   "metadata": {},
   "source": [
    "<h5>Question 1<h5>"
   ]
  },
  {
   "cell_type": "markdown",
   "metadata": {},
   "source": [
    "<h5>part (a)<h5>"
   ]
  },
  {
   "cell_type": "code",
   "execution_count": 96,
   "metadata": {},
   "outputs": [
    {
     "data": {
      "text/html": [
       "<div>\n",
       "<style scoped>\n",
       "    .dataframe tbody tr th:only-of-type {\n",
       "        vertical-align: middle;\n",
       "    }\n",
       "\n",
       "    .dataframe tbody tr th {\n",
       "        vertical-align: top;\n",
       "    }\n",
       "\n",
       "    .dataframe thead th {\n",
       "        text-align: right;\n",
       "    }\n",
       "</style>\n",
       "<table border=\"1\" class=\"dataframe\">\n",
       "  <thead>\n",
       "    <tr style=\"text-align: right;\">\n",
       "      <th></th>\n",
       "      <th>2</th>\n",
       "      <th>3</th>\n",
       "      <th>4</th>\n",
       "      <th>5</th>\n",
       "      <th>6</th>\n",
       "      <th>7</th>\n",
       "      <th>8</th>\n",
       "      <th>9</th>\n",
       "      <th>10</th>\n",
       "      <th>11</th>\n",
       "      <th>...</th>\n",
       "      <th>23</th>\n",
       "      <th>24</th>\n",
       "      <th>25</th>\n",
       "      <th>26</th>\n",
       "      <th>27</th>\n",
       "      <th>28</th>\n",
       "      <th>29</th>\n",
       "      <th>30</th>\n",
       "      <th>31</th>\n",
       "      <th>label</th>\n",
       "    </tr>\n",
       "  </thead>\n",
       "  <tbody>\n",
       "    <tr>\n",
       "      <th>0</th>\n",
       "      <td>17.99</td>\n",
       "      <td>10.38</td>\n",
       "      <td>122.80</td>\n",
       "      <td>1001.0</td>\n",
       "      <td>0.11840</td>\n",
       "      <td>0.27760</td>\n",
       "      <td>0.30010</td>\n",
       "      <td>0.14710</td>\n",
       "      <td>0.2419</td>\n",
       "      <td>0.07871</td>\n",
       "      <td>...</td>\n",
       "      <td>17.33</td>\n",
       "      <td>184.60</td>\n",
       "      <td>2019.0</td>\n",
       "      <td>0.1622</td>\n",
       "      <td>0.6656</td>\n",
       "      <td>0.7119</td>\n",
       "      <td>0.2654</td>\n",
       "      <td>0.4601</td>\n",
       "      <td>0.11890</td>\n",
       "      <td>1</td>\n",
       "    </tr>\n",
       "    <tr>\n",
       "      <th>1</th>\n",
       "      <td>20.57</td>\n",
       "      <td>17.77</td>\n",
       "      <td>132.90</td>\n",
       "      <td>1326.0</td>\n",
       "      <td>0.08474</td>\n",
       "      <td>0.07864</td>\n",
       "      <td>0.08690</td>\n",
       "      <td>0.07017</td>\n",
       "      <td>0.1812</td>\n",
       "      <td>0.05667</td>\n",
       "      <td>...</td>\n",
       "      <td>23.41</td>\n",
       "      <td>158.80</td>\n",
       "      <td>1956.0</td>\n",
       "      <td>0.1238</td>\n",
       "      <td>0.1866</td>\n",
       "      <td>0.2416</td>\n",
       "      <td>0.1860</td>\n",
       "      <td>0.2750</td>\n",
       "      <td>0.08902</td>\n",
       "      <td>1</td>\n",
       "    </tr>\n",
       "    <tr>\n",
       "      <th>2</th>\n",
       "      <td>19.69</td>\n",
       "      <td>21.25</td>\n",
       "      <td>130.00</td>\n",
       "      <td>1203.0</td>\n",
       "      <td>0.10960</td>\n",
       "      <td>0.15990</td>\n",
       "      <td>0.19740</td>\n",
       "      <td>0.12790</td>\n",
       "      <td>0.2069</td>\n",
       "      <td>0.05999</td>\n",
       "      <td>...</td>\n",
       "      <td>25.53</td>\n",
       "      <td>152.50</td>\n",
       "      <td>1709.0</td>\n",
       "      <td>0.1444</td>\n",
       "      <td>0.4245</td>\n",
       "      <td>0.4504</td>\n",
       "      <td>0.2430</td>\n",
       "      <td>0.3613</td>\n",
       "      <td>0.08758</td>\n",
       "      <td>1</td>\n",
       "    </tr>\n",
       "    <tr>\n",
       "      <th>3</th>\n",
       "      <td>11.42</td>\n",
       "      <td>20.38</td>\n",
       "      <td>77.58</td>\n",
       "      <td>386.1</td>\n",
       "      <td>0.14250</td>\n",
       "      <td>0.28390</td>\n",
       "      <td>0.24140</td>\n",
       "      <td>0.10520</td>\n",
       "      <td>0.2597</td>\n",
       "      <td>0.09744</td>\n",
       "      <td>...</td>\n",
       "      <td>26.50</td>\n",
       "      <td>98.87</td>\n",
       "      <td>567.7</td>\n",
       "      <td>0.2098</td>\n",
       "      <td>0.8663</td>\n",
       "      <td>0.6869</td>\n",
       "      <td>0.2575</td>\n",
       "      <td>0.6638</td>\n",
       "      <td>0.17300</td>\n",
       "      <td>1</td>\n",
       "    </tr>\n",
       "    <tr>\n",
       "      <th>4</th>\n",
       "      <td>20.29</td>\n",
       "      <td>14.34</td>\n",
       "      <td>135.10</td>\n",
       "      <td>1297.0</td>\n",
       "      <td>0.10030</td>\n",
       "      <td>0.13280</td>\n",
       "      <td>0.19800</td>\n",
       "      <td>0.10430</td>\n",
       "      <td>0.1809</td>\n",
       "      <td>0.05883</td>\n",
       "      <td>...</td>\n",
       "      <td>16.67</td>\n",
       "      <td>152.20</td>\n",
       "      <td>1575.0</td>\n",
       "      <td>0.1374</td>\n",
       "      <td>0.2050</td>\n",
       "      <td>0.4000</td>\n",
       "      <td>0.1625</td>\n",
       "      <td>0.2364</td>\n",
       "      <td>0.07678</td>\n",
       "      <td>1</td>\n",
       "    </tr>\n",
       "    <tr>\n",
       "      <th>...</th>\n",
       "      <td>...</td>\n",
       "      <td>...</td>\n",
       "      <td>...</td>\n",
       "      <td>...</td>\n",
       "      <td>...</td>\n",
       "      <td>...</td>\n",
       "      <td>...</td>\n",
       "      <td>...</td>\n",
       "      <td>...</td>\n",
       "      <td>...</td>\n",
       "      <td>...</td>\n",
       "      <td>...</td>\n",
       "      <td>...</td>\n",
       "      <td>...</td>\n",
       "      <td>...</td>\n",
       "      <td>...</td>\n",
       "      <td>...</td>\n",
       "      <td>...</td>\n",
       "      <td>...</td>\n",
       "      <td>...</td>\n",
       "      <td>...</td>\n",
       "    </tr>\n",
       "    <tr>\n",
       "      <th>563</th>\n",
       "      <td>20.92</td>\n",
       "      <td>25.09</td>\n",
       "      <td>143.00</td>\n",
       "      <td>1347.0</td>\n",
       "      <td>0.10990</td>\n",
       "      <td>0.22360</td>\n",
       "      <td>0.31740</td>\n",
       "      <td>0.14740</td>\n",
       "      <td>0.2149</td>\n",
       "      <td>0.06879</td>\n",
       "      <td>...</td>\n",
       "      <td>29.41</td>\n",
       "      <td>179.10</td>\n",
       "      <td>1819.0</td>\n",
       "      <td>0.1407</td>\n",
       "      <td>0.4186</td>\n",
       "      <td>0.6599</td>\n",
       "      <td>0.2542</td>\n",
       "      <td>0.2929</td>\n",
       "      <td>0.09873</td>\n",
       "      <td>1</td>\n",
       "    </tr>\n",
       "    <tr>\n",
       "      <th>564</th>\n",
       "      <td>21.56</td>\n",
       "      <td>22.39</td>\n",
       "      <td>142.00</td>\n",
       "      <td>1479.0</td>\n",
       "      <td>0.11100</td>\n",
       "      <td>0.11590</td>\n",
       "      <td>0.24390</td>\n",
       "      <td>0.13890</td>\n",
       "      <td>0.1726</td>\n",
       "      <td>0.05623</td>\n",
       "      <td>...</td>\n",
       "      <td>26.40</td>\n",
       "      <td>166.10</td>\n",
       "      <td>2027.0</td>\n",
       "      <td>0.1410</td>\n",
       "      <td>0.2113</td>\n",
       "      <td>0.4107</td>\n",
       "      <td>0.2216</td>\n",
       "      <td>0.2060</td>\n",
       "      <td>0.07115</td>\n",
       "      <td>1</td>\n",
       "    </tr>\n",
       "    <tr>\n",
       "      <th>565</th>\n",
       "      <td>20.13</td>\n",
       "      <td>28.25</td>\n",
       "      <td>131.20</td>\n",
       "      <td>1261.0</td>\n",
       "      <td>0.09780</td>\n",
       "      <td>0.10340</td>\n",
       "      <td>0.14400</td>\n",
       "      <td>0.09791</td>\n",
       "      <td>0.1752</td>\n",
       "      <td>0.05533</td>\n",
       "      <td>...</td>\n",
       "      <td>38.25</td>\n",
       "      <td>155.00</td>\n",
       "      <td>1731.0</td>\n",
       "      <td>0.1166</td>\n",
       "      <td>0.1922</td>\n",
       "      <td>0.3215</td>\n",
       "      <td>0.1628</td>\n",
       "      <td>0.2572</td>\n",
       "      <td>0.06637</td>\n",
       "      <td>1</td>\n",
       "    </tr>\n",
       "    <tr>\n",
       "      <th>566</th>\n",
       "      <td>16.60</td>\n",
       "      <td>28.08</td>\n",
       "      <td>108.30</td>\n",
       "      <td>858.1</td>\n",
       "      <td>0.08455</td>\n",
       "      <td>0.10230</td>\n",
       "      <td>0.09251</td>\n",
       "      <td>0.05302</td>\n",
       "      <td>0.1590</td>\n",
       "      <td>0.05648</td>\n",
       "      <td>...</td>\n",
       "      <td>34.12</td>\n",
       "      <td>126.70</td>\n",
       "      <td>1124.0</td>\n",
       "      <td>0.1139</td>\n",
       "      <td>0.3094</td>\n",
       "      <td>0.3403</td>\n",
       "      <td>0.1418</td>\n",
       "      <td>0.2218</td>\n",
       "      <td>0.07820</td>\n",
       "      <td>1</td>\n",
       "    </tr>\n",
       "    <tr>\n",
       "      <th>567</th>\n",
       "      <td>20.60</td>\n",
       "      <td>29.33</td>\n",
       "      <td>140.10</td>\n",
       "      <td>1265.0</td>\n",
       "      <td>0.11780</td>\n",
       "      <td>0.27700</td>\n",
       "      <td>0.35140</td>\n",
       "      <td>0.15200</td>\n",
       "      <td>0.2397</td>\n",
       "      <td>0.07016</td>\n",
       "      <td>...</td>\n",
       "      <td>39.42</td>\n",
       "      <td>184.60</td>\n",
       "      <td>1821.0</td>\n",
       "      <td>0.1650</td>\n",
       "      <td>0.8681</td>\n",
       "      <td>0.9387</td>\n",
       "      <td>0.2650</td>\n",
       "      <td>0.4087</td>\n",
       "      <td>0.12400</td>\n",
       "      <td>1</td>\n",
       "    </tr>\n",
       "  </tbody>\n",
       "</table>\n",
       "<p>212 rows × 31 columns</p>\n",
       "</div>"
      ],
      "text/plain": [
       "         2      3       4       5        6        7        8        9      10  \\\n",
       "0    17.99  10.38  122.80  1001.0  0.11840  0.27760  0.30010  0.14710  0.2419   \n",
       "1    20.57  17.77  132.90  1326.0  0.08474  0.07864  0.08690  0.07017  0.1812   \n",
       "2    19.69  21.25  130.00  1203.0  0.10960  0.15990  0.19740  0.12790  0.2069   \n",
       "3    11.42  20.38   77.58   386.1  0.14250  0.28390  0.24140  0.10520  0.2597   \n",
       "4    20.29  14.34  135.10  1297.0  0.10030  0.13280  0.19800  0.10430  0.1809   \n",
       "..     ...    ...     ...     ...      ...      ...      ...      ...     ...   \n",
       "563  20.92  25.09  143.00  1347.0  0.10990  0.22360  0.31740  0.14740  0.2149   \n",
       "564  21.56  22.39  142.00  1479.0  0.11100  0.11590  0.24390  0.13890  0.1726   \n",
       "565  20.13  28.25  131.20  1261.0  0.09780  0.10340  0.14400  0.09791  0.1752   \n",
       "566  16.60  28.08  108.30   858.1  0.08455  0.10230  0.09251  0.05302  0.1590   \n",
       "567  20.60  29.33  140.10  1265.0  0.11780  0.27700  0.35140  0.15200  0.2397   \n",
       "\n",
       "          11  ...     23      24      25      26      27      28      29  \\\n",
       "0    0.07871  ...  17.33  184.60  2019.0  0.1622  0.6656  0.7119  0.2654   \n",
       "1    0.05667  ...  23.41  158.80  1956.0  0.1238  0.1866  0.2416  0.1860   \n",
       "2    0.05999  ...  25.53  152.50  1709.0  0.1444  0.4245  0.4504  0.2430   \n",
       "3    0.09744  ...  26.50   98.87   567.7  0.2098  0.8663  0.6869  0.2575   \n",
       "4    0.05883  ...  16.67  152.20  1575.0  0.1374  0.2050  0.4000  0.1625   \n",
       "..       ...  ...    ...     ...     ...     ...     ...     ...     ...   \n",
       "563  0.06879  ...  29.41  179.10  1819.0  0.1407  0.4186  0.6599  0.2542   \n",
       "564  0.05623  ...  26.40  166.10  2027.0  0.1410  0.2113  0.4107  0.2216   \n",
       "565  0.05533  ...  38.25  155.00  1731.0  0.1166  0.1922  0.3215  0.1628   \n",
       "566  0.05648  ...  34.12  126.70  1124.0  0.1139  0.3094  0.3403  0.1418   \n",
       "567  0.07016  ...  39.42  184.60  1821.0  0.1650  0.8681  0.9387  0.2650   \n",
       "\n",
       "         30       31  label  \n",
       "0    0.4601  0.11890      1  \n",
       "1    0.2750  0.08902      1  \n",
       "2    0.3613  0.08758      1  \n",
       "3    0.6638  0.17300      1  \n",
       "4    0.2364  0.07678      1  \n",
       "..      ...      ...    ...  \n",
       "563  0.2929  0.09873      1  \n",
       "564  0.2060  0.07115      1  \n",
       "565  0.2572  0.06637      1  \n",
       "566  0.2218  0.07820      1  \n",
       "567  0.4087  0.12400      1  \n",
       "\n",
       "[212 rows x 31 columns]"
      ]
     },
     "execution_count": 96,
     "metadata": {},
     "output_type": "execute_result"
    }
   ],
   "source": [
    "temp = pd.read_csv('../data/wdbc.csv',\n",
    "                na_values='?',\n",
    "                header=None,\n",
    "                index_col=None)\n",
    "df = temp.iloc[:,1:]\n",
    "df['label'] = df.iloc[:, 0].apply(convert_label)\n",
    "df = df.iloc[:,1:]\n",
    "df_X = df.iloc[:,:-1]\n",
    "df_Y = df.iloc[:,-1:]\n",
    "df_B = df[df.iloc[:, -1] == 0]\n",
    "df_M = df[df.iloc[:, -1] == 1]\n",
    "df_M"
   ]
  },
  {
   "cell_type": "markdown",
   "metadata": {},
   "source": [
    "<h5>part (b)<h5>"
   ]
  },
  {
   "cell_type": "markdown",
   "metadata": {},
   "source": [
    "<h5>i)<h5>"
   ]
  },
  {
   "cell_type": "code",
   "execution_count": 97,
   "metadata": {},
   "outputs": [],
   "source": [
    "temp_list = list(range(-3,6))\n",
    "c_list = []\n",
    "for i in temp_list:\n",
    "    c_list.append(pow(10,i))"
   ]
  },
  {
   "cell_type": "code",
   "execution_count": 98,
   "metadata": {},
   "outputs": [],
   "source": [
    "df_B_X = df_B.iloc[:,:-1]\n",
    "df_B_Y = df_B.iloc[:,-1:]\n",
    "df_M_X = df_M.iloc[:,:-1]\n",
    "df_M_Y = df_M.iloc[:,-1:]"
   ]
  },
  {
   "cell_type": "code",
   "execution_count": 99,
   "metadata": {},
   "outputs": [],
   "source": [
    "accuracy_list_test = []\n",
    "precision_list_test = []\n",
    "recall_list_test = []\n",
    "F1_score_list_test = []\n",
    "auc_list_test = []\n",
    "accuracy_list_train = []\n",
    "precision_list_train = []\n",
    "recall_list_train = []\n",
    "F1_score_list_train = []\n",
    "auc_list_train = []\n",
    "\n",
    "for M in range(0,30):\n",
    "    rs = M\n",
    "    X_B_train, X_B_test, Y_B_train, Y_B_test = model_selection.train_test_split(df_B_X, df_B_Y, train_size=0.8,test_size=0.2, random_state=rs);\n",
    "    X_M_train, X_M_test, Y_M_train, Y_M_test = model_selection.train_test_split(df_M_X, df_M_Y, train_size=0.8,test_size=0.2, random_state=rs);\n",
    "    #X_train, X_test, Y_train, Y_test = model_selection.train_test_split(X, Y, train_size=0.7,test_size=0.3, random_state=10);\n",
    "    X_train = pd.concat([X_B_train,X_M_train])\n",
    "    X_test = pd.concat([X_B_test,X_M_test])\n",
    "    Y_train = pd.concat([Y_B_train,Y_M_train])\n",
    "    Y_test = pd.concat([Y_B_test,Y_M_test])\n",
    "    \n",
    "    param_grid = {\n",
    "        'svc__penalty':['l1'],\n",
    "        'svc__C':c_list,\n",
    "        'svc__dual':[False]\n",
    "    }\n",
    "    pipe = Pipeline(steps=[('scaler',preprocessing.MinMaxScaler()),('svc', LinearSVC())])\n",
    "    clf = GridSearchCV(estimator = pipe, n_jobs=-1, param_grid=param_grid,cv=5,scoring='accuracy')\n",
    "    clf.fit(X_train, Y_train)\n",
    " \n",
    "    # Train\n",
    "    Y_predict_train = clf.predict(X_train)\n",
    "    tn, fp, fn, tp = confusion_matrix(y_true = Y_train, y_pred = Y_predict_train).ravel()\n",
    "    accuracy = (tn+tp)/(tn+fp+fn+tp)\n",
    "    precision = tp/(tp+fp)\n",
    "    recall = tp/(tp+fn)\n",
    "    f1_score = 2*((precision*recall)/(precision+recall))\n",
    "    fpr, tpr, thresholds = roc_curve(y_true = Y_train,y_score=Y_predict_train,pos_label=1)\n",
    "    area_under_curve = auc(fpr, tpr)\n",
    "    accuracy_list_train.append(accuracy)\n",
    "    precision_list_train.append(precision)\n",
    "    recall_list_train.append(recall)\n",
    "    F1_score_list_train.append(f1_score)\n",
    "    auc_list_train.append(area_under_curve)\n",
    "\n",
    "    # Test\n",
    "    Y_predict_test = clf.predict(X_test)\n",
    "    tn, fp, fn, tp = confusion_matrix(y_true = Y_test, y_pred = Y_predict_test).ravel()\n",
    "    accuracy = (tn+tp)/(tn+fp+fn+tp)\n",
    "    precision = tp/(tp+fp)\n",
    "    recall = tp/(tp+fn)\n",
    "    f1_score = 2*((precision*recall)/(precision+recall))\n",
    "    fpr, tpr, thresholds = roc_curve(y_true = Y_test,y_score=Y_predict_test,pos_label=1)\n",
    "    area_under_curve = auc(fpr, tpr)\n",
    "    accuracy_list_test.append(accuracy)\n",
    "    precision_list_test.append(precision)\n",
    "    recall_list_test.append(recall)\n",
    "    F1_score_list_test.append(f1_score)\n",
    "    auc_list_test.append(area_under_curve)"
   ]
  },
  {
   "cell_type": "code",
   "execution_count": 100,
   "metadata": {},
   "outputs": [
    {
     "name": "stdout",
     "output_type": "stream",
     "text": [
      "The average of Monte-Carlo Simulation with M=30 are shown below:\n",
      "\n",
      "For Training:\n",
      "accuracy = 0.9867107195301028\n",
      "precision = 0.9923471316206426\n",
      "recall = 0.9717948717948718\n",
      "F1_score = 0.9819426920811473\n",
      "AUC = 0.9836752136752137\n",
      "\n",
      "For Testing:\n",
      "accuracy = 0.9710144927536232\n",
      "precision = 0.9750615744730889\n",
      "recall = 0.9472868217054263\n",
      "F1_score = 0.9605116776476806\n",
      "AUC = 0.9662360034453057\n",
      "\n",
      "\n",
      "For one of the runs:\n",
      "\n",
      "For Training:\n"
     ]
    },
    {
     "data": {
      "image/png": "[encoded data removed]",
      "text/plain": [
       "<Figure size 432x288 with 1 Axes>"
      ]
     },
     "metadata": {
      "needs_background": "light"
     },
     "output_type": "display_data"
    },
    {
     "name": "stdout",
     "output_type": "stream",
     "text": [
      "Confusion Matrix:\n",
      "[[284   1]\n",
      " [  5 164]]\n",
      "\n",
      "\n",
      "For Testing:\n"
     ]
    },
    {
     "data": {
      "image/png": "[encoded data removed]",
      "text/plain": [
       "<Figure size 432x288 with 1 Axes>"
      ]
     },
     "metadata": {
      "needs_background": "light"
     },
     "output_type": "display_data"
    },
    {
     "name": "stdout",
     "output_type": "stream",
     "text": [
      "Confusion Matrix:\n",
      "[[70  2]\n",
      " [ 2 41]]\n"
     ]
    }
   ],
   "source": [
    "import statistics\n",
    "print('The average of Monte-Carlo Simulation with M=30 are shown below:')\n",
    "print('\\nFor Training:')\n",
    "print('accuracy = '+str(statistics.mean(accuracy_list_train)))\n",
    "print('precision = '+str(statistics.mean(precision_list_train)))\n",
    "print('recall = '+str(statistics.mean(recall_list_train)))\n",
    "print('F1_score = '+str(statistics.mean(F1_score_list_train)))\n",
    "print('AUC = '+str(statistics.mean(auc_list_train)))\n",
    "\n",
    "print('\\nFor Testing:')\n",
    "print('accuracy = '+str(statistics.mean(accuracy_list_test)))\n",
    "print('precision = '+str(statistics.mean(precision_list_test)))\n",
    "print('recall = '+str(statistics.mean(recall_list_test)))\n",
    "print('F1_score = '+str(statistics.mean(F1_score_list_test)))\n",
    "print('AUC = '+str(statistics.mean(auc_list_test)))\n",
    "\n",
    "\n",
    "print('\\n\\nFor one of the runs:')\n",
    "\n",
    "# Training\n",
    "print('\\nFor Training:')\n",
    "fpr, tpr, thresholds = roc_curve(y_true = Y_train,y_score=Y_predict_train,pos_label=1)\n",
    "plt.plot(fpr, tpr)\n",
    "plt.title(\"Training ROC Curve\")\n",
    "plt.xlabel(\"False Positive Rate\")\n",
    "plt.ylabel(\"True Positive Rate\")\n",
    "plt.show()\n",
    "# confusion matrix\n",
    "confusion_matrix_training = confusion_matrix(y_true = Y_train, y_pred = Y_predict_train)\n",
    "print('Confusion Matrix:')\n",
    "print(confusion_matrix_training)\n",
    "\n",
    "\n",
    "# Testing\n",
    "print('\\n\\nFor Testing:')\n",
    "fpr, tpr, thresholds = roc_curve(y_true = Y_test,y_score=Y_predict_test,pos_label=1)\n",
    "plt.plot(fpr, tpr)\n",
    "plt.title(\"Testing ROC Curve\")\n",
    "plt.xlabel(\"False Positive Rate\")\n",
    "plt.ylabel(\"True Positive Rate\")\n",
    "plt.show()\n",
    "# confusion matrix\n",
    "confusion_matrix_training = confusion_matrix(y_true = Y_test, y_pred = Y_predict_test)\n",
    "print('Confusion Matrix:')\n",
    "print(confusion_matrix_training)\n"
   ]
  },
  {
   "cell_type": "markdown",
   "metadata": {},
   "source": [
    "<h5>ii)<h5>"
   ]
  },
  {
   "cell_type": "code",
   "execution_count": 101,
   "metadata": {},
   "outputs": [],
   "source": [
    "accuracy_list_test = []\n",
    "precision_list_test = []\n",
    "recall_list_test = []\n",
    "F1_score_list_test = []\n",
    "auc_list_test = []\n",
    "accuracy_list_train = []\n",
    "precision_list_train = []\n",
    "recall_list_train = []\n",
    "F1_score_list_train = []\n",
    "auc_list_train = []\n",
    "\n",
    "for M in range(0,30):\n",
    "\n",
    "    rs = M\n",
    "    X_B_train, X_B_test, Y_B_train, Y_B_test = model_selection.train_test_split(df_B_X, df_B_Y, train_size=0.8,test_size=0.2, random_state=rs);\n",
    "    X_M_train, X_M_test, Y_M_train, Y_M_test = model_selection.train_test_split(df_M_X, df_M_Y, train_size=0.8,test_size=0.2, random_state=rs);\n",
    "    #X_train, X_test, Y_train, Y_test = model_selection.train_test_split(X, Y, train_size=0.7,test_size=0.3, random_state=10);\n",
    "    X_test = pd.concat([X_B_test,X_M_test])\n",
    "    Y_test = pd.concat([Y_B_test,Y_M_test])\n",
    "    X_train = pd.concat([X_B_train,X_M_train])\n",
    "    Y_train = pd.concat([Y_B_train,Y_M_train])\n",
    "\n",
    "    label_B_X, unlabel_B_X, label_B_Y, unlabel_B_Y = model_selection.train_test_split(X_B_train, Y_B_train, train_size=0.5,test_size=0.5, random_state=rs);\n",
    "    label_M_X, unlabel_M_X, label_M_Y, unlabel_M_Y = model_selection.train_test_split(X_M_train, Y_M_train, train_size=0.5,test_size=0.5, random_state=rs);\n",
    "    label_X = pd.concat([label_B_X,label_M_X])\n",
    "    unlabel_X = pd.concat([unlabel_B_X,unlabel_M_X])\n",
    "    label_Y = pd.concat([label_B_Y,label_M_Y])\n",
    "    unlabel_Y = pd.concat([unlabel_B_Y,unlabel_M_Y])\n",
    "\n",
    "    # get best C by CV\n",
    "    param_grid = {\n",
    "        'svc__penalty':['l1'],\n",
    "        'svc__C':c_list,\n",
    "        'svc__dual':[False]\n",
    "    }\n",
    "    pipe = Pipeline(steps=[('scaler',preprocessing.MinMaxScaler()),('svc', LinearSVC())])\n",
    "    clf = GridSearchCV(estimator = pipe, n_jobs=-1, param_grid=param_grid,cv=5,scoring='accuracy')\n",
    "    clf.fit(label_X, label_Y)\n",
    "    best_C = clf.best_params_.get('svc__C')\n",
    "    \n",
    "    # find and sort distance\n",
    "    min_max_scaler = preprocessing.MinMaxScaler()\n",
    "    x_scaled = min_max_scaler.fit_transform(label_X)\n",
    "    label_X_normalize = pd.DataFrame(x_scaled)\n",
    "    \n",
    "    lsvc = LinearSVC(penalty='l1',C=best_C,dual=False)\n",
    "    lsvc.fit(label_X_normalize,label_Y)\n",
    "    y = lsvc.decision_function(unlabel_X)\n",
    "    w_norm = np.linalg.norm(lsvc.coef_)\n",
    "    distance_list = list(y / w_norm)\n",
    "    raw_distance = list(abs(clf.decision_function(unlabel_X)))\n",
    "    adding_list = sorted(range(len(raw_distance)), key=lambda k: raw_distance[k],reverse=True)\n",
    "    \n",
    "    # repeatly add data point\n",
    "    for index in range(0,len(adding_list)):\n",
    "        current_data = pd.DataFrame(unlabel_X.iloc[adding_list[index],:]).transpose()\n",
    "\n",
    "        #---------normalize data---------\n",
    "        temp = pd.concat([label_X,current_data])\n",
    "        min_max_scaler = preprocessing.MinMaxScaler()\n",
    "        x_scaled = min_max_scaler.fit_transform(temp)\n",
    "        temp_normalize = pd.DataFrame(x_scaled)\n",
    "        label_X_normalize = temp_normalize.iloc[:-1,:]\n",
    "        current_data_normalize = temp_normalize.iloc[[-1]]\n",
    "\n",
    "        lsvc = LinearSVC(penalty='l1',C=best_C,dual=False)\n",
    "        lsvc.fit(label_X_normalize,label_Y)\n",
    "        current_y = pd.DataFrame(data=lsvc.predict(current_data_normalize),columns=['label'])\n",
    "        label_X = pd.concat([label_X,current_data])\n",
    "        label_Y = pd.concat([label_Y,current_y])\n",
    "\n",
    "    min_max_scaler = preprocessing.MinMaxScaler()\n",
    "    x_scaled = min_max_scaler.fit_transform(label_X)\n",
    "    label_X_normalize = pd.DataFrame(x_scaled)\n",
    "    lsvc = LinearSVC(penalty='l1',C=best_C,dual=False)\n",
    "    lsvc.fit(label_X_normalize,label_Y)   \n",
    "    \n",
    "    # normalize train data + predict\n",
    "    min_max_scaler = preprocessing.MinMaxScaler()\n",
    "    x_scaled = min_max_scaler.fit_transform(X_train)\n",
    "    X_train_normalize = pd.DataFrame(x_scaled)\n",
    "    Y_predict_train = lsvc.predict(X_train_normalize)\n",
    "\n",
    "    # normalize test data + predict\n",
    "    min_max_scaler = preprocessing.MinMaxScaler()\n",
    "    x_scaled = min_max_scaler.fit_transform(X_test)\n",
    "    X_test_normalize = pd.DataFrame(x_scaled)\n",
    "    Y_predict_test = lsvc.predict(X_test_normalize)\n",
    "    \n",
    "    # Train\n",
    "    tn, fp, fn, tp = confusion_matrix(y_true = Y_train, y_pred = Y_predict_train).ravel()\n",
    "    accuracy = (tn+tp)/(tn+fp+fn+tp)\n",
    "    precision = tp/(tp+fp)\n",
    "    recall = tp/(tp+fn)\n",
    "    f1_score = 2*((precision*recall)/(precision+recall))\n",
    "    fpr, tpr, thresholds = roc_curve(y_true = Y_train,y_score=Y_predict_train,pos_label=1)\n",
    "    area_under_curve = auc(fpr, tpr)\n",
    "    accuracy_list_train.append(accuracy)\n",
    "    precision_list_train.append(precision)\n",
    "    recall_list_train.append(recall)\n",
    "    F1_score_list_train.append(f1_score)\n",
    "    auc_list_train.append(area_under_curve)\n",
    "\n",
    "    # Test\n",
    "    tn, fp, fn, tp = confusion_matrix(y_true = Y_test, y_pred = Y_predict_test).ravel()\n",
    "    accuracy = (tn+tp)/(tn+fp+fn+tp)\n",
    "    precision = tp/(tp+fp)\n",
    "    recall = tp/(tp+fn)\n",
    "    f1_score = 2*((precision*recall)/(precision+recall))\n",
    "    fpr, tpr, thresholds = roc_curve(y_true = Y_test,y_score=Y_predict_test,pos_label=1)\n",
    "    area_under_curve = auc(fpr, tpr)\n",
    "    accuracy_list_test.append(accuracy)\n",
    "    precision_list_test.append(precision)\n",
    "    recall_list_test.append(recall)\n",
    "    F1_score_list_test.append(f1_score)\n",
    "    auc_list_test.append(area_under_curve)"
   ]
  },
  {
   "cell_type": "code",
   "execution_count": 102,
   "metadata": {},
   "outputs": [
    {
     "name": "stdout",
     "output_type": "stream",
     "text": [
      "The average of Monte-Carlo Simulation with M=30 are shown below:\n",
      "\n",
      "For Training:\n",
      "accuracy = 0.9738619676945668\n",
      "precision = 0.9807021411581913\n",
      "recall = 0.9487179487179487\n",
      "F1_score = 0.9642893467565647\n",
      "AUC = 0.968744939271255\n",
      "\n",
      "For Testing:\n",
      "accuracy = 0.9289855072463769\n",
      "precision = 0.8854528784640289\n",
      "recall = 0.9658914728682171\n",
      "F1_score = 0.9175915987639878\n",
      "AUC = 0.9364179586563307\n",
      "\n",
      "\n",
      "For one of the runs:\n",
      "\n",
      "For Training:\n"
     ]
    },
    {
     "data": {
      "image/png": "[encoded data removed]",
      "text/plain": [
       "<Figure size 432x288 with 1 Axes>"
      ]
     },
     "metadata": {
      "needs_background": "light"
     },
     "output_type": "display_data"
    },
    {
     "name": "stdout",
     "output_type": "stream",
     "text": [
      "Confusion Matrix:\n",
      "[[282   3]\n",
      " [  7 162]]\n",
      "\n",
      "\n",
      "For Testing:\n"
     ]
    },
    {
     "data": {
      "image/png": "[encoded data removed]",
      "text/plain": [
       "<Figure size 432x288 with 1 Axes>"
      ]
     },
     "metadata": {
      "needs_background": "light"
     },
     "output_type": "display_data"
    },
    {
     "name": "stdout",
     "output_type": "stream",
     "text": [
      "Confusion Matrix:\n",
      "[[68  4]\n",
      " [ 1 42]]\n"
     ]
    }
   ],
   "source": [
    "print('The average of Monte-Carlo Simulation with M=30 are shown below:')\n",
    "print('\\nFor Training:')\n",
    "print('accuracy = '+str(statistics.mean(accuracy_list_train)))\n",
    "print('precision = '+str(statistics.mean(precision_list_train)))\n",
    "print('recall = '+str(statistics.mean(recall_list_train)))\n",
    "print('F1_score = '+str(statistics.mean(F1_score_list_train)))\n",
    "print('AUC = '+str(statistics.mean(auc_list_train)))\n",
    "\n",
    "print('\\nFor Testing:')\n",
    "print('accuracy = '+str(statistics.mean(accuracy_list_test)))\n",
    "print('precision = '+str(statistics.mean(precision_list_test)))\n",
    "print('recall = '+str(statistics.mean(recall_list_test)))\n",
    "print('F1_score = '+str(statistics.mean(F1_score_list_test)))\n",
    "print('AUC = '+str(statistics.mean(auc_list_test)))\n",
    "\n",
    "\n",
    "print('\\n\\nFor one of the runs:')\n",
    "\n",
    "# Training\n",
    "print('\\nFor Training:')\n",
    "fpr, tpr, thresholds = roc_curve(y_true = Y_train,y_score=Y_predict_train,pos_label=1)\n",
    "plt.plot(fpr, tpr)\n",
    "plt.title(\"Training ROC Curve\")\n",
    "plt.xlabel(\"False Positive Rate\")\n",
    "plt.ylabel(\"True Positive Rate\")\n",
    "plt.show()\n",
    "# confusion matrix\n",
    "confusion_matrix_training = confusion_matrix(y_true = Y_train, y_pred = Y_predict_train)\n",
    "print('Confusion Matrix:')\n",
    "print(confusion_matrix_training)\n",
    "\n",
    "\n",
    "# Testing\n",
    "print('\\n\\nFor Testing:')\n",
    "fpr, tpr, thresholds = roc_curve(y_true = Y_test,y_score=Y_predict_test,pos_label=1)\n",
    "plt.plot(fpr, tpr)\n",
    "plt.title(\"Testing ROC Curve\")\n",
    "plt.xlabel(\"False Positive Rate\")\n",
    "plt.ylabel(\"True Positive Rate\")\n",
    "plt.show()\n",
    "# confusion matrix\n",
    "confusion_matrix_training = confusion_matrix(y_true = Y_test, y_pred = Y_predict_test)\n",
    "print('Confusion Matrix:')\n",
    "print(confusion_matrix_training)\n"
   ]
  },
  {
   "cell_type": "markdown",
   "metadata": {},
   "source": [
    "<h5>iii）<h5>"
   ]
  },
  {
   "cell_type": "code",
   "execution_count": 103,
   "metadata": {},
   "outputs": [],
   "source": [
    "from sklearn.cluster import KMeans"
   ]
  },
  {
   "cell_type": "code",
   "execution_count": 28,
   "metadata": {},
   "outputs": [],
   "source": []
  },
  {
   "cell_type": "code",
   "execution_count": 29,
   "metadata": {},
   "outputs": [],
   "source": []
  },
  {
   "cell_type": "code",
   "execution_count": 30,
   "metadata": {},
   "outputs": [],
   "source": []
  },
  {
   "cell_type": "code",
   "execution_count": null,
   "metadata": {},
   "outputs": [],
   "source": []
  },
  {
   "cell_type": "code",
   "execution_count": null,
   "metadata": {},
   "outputs": [],
   "source": []
  },
  {
   "cell_type": "markdown",
   "metadata": {},
   "source": [
    "<h5>Question 2<h5>"
   ]
  },
  {
   "cell_type": "markdown",
   "metadata": {},
   "source": [
    "<h5>a)<h5>"
   ]
  },
  {
   "cell_type": "code",
   "execution_count": 4,
   "metadata": {},
   "outputs": [],
   "source": [
    "from sklearn import metrics\n",
    "import numpy as np\n",
    "from sklearn.cluster import KMeans\n",
    "from sklearn.cluster import MiniBatchKMeans"
   ]
  },
  {
   "cell_type": "code",
   "execution_count": 11,
   "metadata": {},
   "outputs": [],
   "source": [
    "family_list = Y['Family'].tolist()\n",
    "genus_list = Y['Genus'].tolist()\n",
    "species_list = Y['Species'].tolist()\n",
    "hamming_distance_list = []\n",
    "hamming_score_list = []\n",
    "hamming_loss_list=[]"
   ]
  },
  {
   "cell_type": "code",
   "execution_count": 12,
   "metadata": {},
   "outputs": [],
   "source": [
    "for index_mc in range(0,50):\n",
    "\n",
    "    # find best k for k means clustering\n",
    "    score_list = []\n",
    "    bs = 5\n",
    "    for i in range(2,51):\n",
    "        kmeans = MiniBatchKMeans(n_clusters=i,batch_size=bs).fit(X)\n",
    "        labels = kmeans.labels_\n",
    "        score_list.append(metrics.silhouette_score(X, labels, metric='euclidean'))\n",
    "\n",
    "    best_k = score_list.index(max(score_list))+2\n",
    "    kmeans = MiniBatchKMeans(n_clusters=best_k,batch_size=bs).fit(X)\n",
    "    labels = kmeans.labels_\n",
    "\n",
    "    # count majority vote for each cluster\n",
    "    total_list = []\n",
    "    for i in range(0,best_k):\n",
    "        total_list.append([{},{},{}])\n",
    "\n",
    "    for i in range(0,len(labels)):\n",
    "        each_label = labels[i]\n",
    "        family_value = family_list[i]\n",
    "        genus_value = genus_list[i]\n",
    "        species_value = species_list[i]\n",
    "        label_triple = total_list[each_label]\n",
    "        added_triple = add_to_triple(label_triple,family_value,genus_value,species_value)\n",
    "        total_list[each_label]=added_triple\n",
    "\n",
    "    result_label_list = []\n",
    "    for i in range(0,best_k):\n",
    "        result_label_list.append([])\n",
    "\n",
    "    for i in range(0,best_k):\n",
    "        for j in range(0,3):\n",
    "            each_triple = total_list[i][j]\n",
    "            max_key = max(each_triple, key=each_triple.get)\n",
    "            result_label_list[i].append(max_key)\n",
    "\n",
    "    # assign each row with predicted result\n",
    "    family_p_list = []\n",
    "    genus_p_list = []\n",
    "    species_p_list = []\n",
    "    for i in range(0,len(labels)):\n",
    "        each_label = labels[i]\n",
    "        family_p_list.append(result_label_list[each_label][0])\n",
    "        genus_p_list.append(result_label_list[each_label][1])\n",
    "        species_p_list.append(result_label_list[each_label][2])\n",
    "\n",
    "    # calculate hamming \n",
    "    number_of_test = len(family_p_list)*3\n",
    "    family_match = get_match_number(family_p_list,Y['Family'])\n",
    "    genus_match = get_match_number(genus_p_list,Y['Genus'])\n",
    "    species_match = get_match_number(species_p_list,Y['Species'])\n",
    "    total_match = family_match+genus_match+species_match\n",
    "    hamming_distance = number_of_test-total_match\n",
    "    hamming_score = total_match/number_of_test\n",
    "    hamming_loss=hamming_distance/number_of_test\n",
    "    hamming_distance_list.append(hamming_distance)\n",
    "    hamming_score_list.append(hamming_score)\n",
    "    hamming_loss_list.append(hamming_loss)"
   ]
  },
  {
   "cell_type": "code",
   "execution_count": 13,
   "metadata": {},
   "outputs": [
    {
     "name": "stdout",
     "output_type": "stream",
     "text": [
      "This is the list of hamming distance for 50 iterations: [5500, 5361, 4616, 5220, 5180, 6320, 3553, 5093, 3723, 4715, 5623, 4707, 5484, 4825, 6424, 4290, 5497, 6372, 4694, 4922, 5982, 5186, 5397, 5465, 4309, 5275, 5462, 6428, 6096, 4769, 4685, 5791, 5251, 6098, 4330, 6083, 4295, 5242, 5503, 6408, 6449, 5761, 5442, 4342, 5118, 4803, 6119, 5661, 4275, 5677]\n",
      "This is the list of hamming score for 50 iterations: [0.7451934213574242, 0.7516330785267546, 0.7861477878156127, 0.7581653926337735, 0.7600185313875376, 0.7072040769052583, 0.835394950196896, 0.7640491081769748, 0.8275191104933982, 0.7815612694000463, 0.7394950196895993, 0.7819318971507991, 0.7459346768589298, 0.7764651378271948, 0.7023859161454714, 0.8012508686587908, 0.7453324067639564, 0.7047949965253648, 0.7825341672457725, 0.7719712763493166, 0.7228630993745657, 0.759740560574473, 0.749965253648367, 0.7468149177669678, 0.8003706277507528, 0.7556173268473477, 0.7469539031735001, 0.702200602270095, 0.7175816539263378, 0.7790595320824647, 0.7829511234653694, 0.7317118369237897, 0.7567292100996063, 0.7174889969886495, 0.7993977299050267, 0.7181839240213111, 0.8010192263145703, 0.7571461663192032, 0.7450544359508918, 0.703127171646977, 0.7012277044243688, 0.7331016909891128, 0.7478804725503823, 0.7988417882788974, 0.7628908964558722, 0.7774843641417651, 0.7165160991429234, 0.7377345378735233, 0.8019457956914524, 0.7369932823720176]\n",
      "This is the list of hamming loss for 50 iterations: [0.2548065786425759, 0.24836692147324532, 0.2138522121843873, 0.24183460736622656, 0.23998146861246236, 0.29279592309474173, 0.164605049803104, 0.23595089182302525, 0.17248088950660181, 0.21843873059995367, 0.26050498031040076, 0.21806810284920083, 0.25406532314107017, 0.2235348621728052, 0.2976140838545286, 0.19874913134120917, 0.25466759323604354, 0.2952050034746352, 0.21746583275422748, 0.22802872365068336, 0.27713690062543433, 0.240259439425527, 0.2500347463516331, 0.2531850822330322, 0.19962937224924715, 0.2443826731526523, 0.25304609682649987, 0.29779939772990505, 0.2824183460736623, 0.22094046791753533, 0.21704887653463054, 0.26828816307621034, 0.2432707899003938, 0.28251100301135046, 0.20060227009497336, 0.2818160759786889, 0.19898077368542968, 0.24285383368079685, 0.2549455640491082, 0.2968728283530229, 0.29877229557563123, 0.2668983090108872, 0.2521195274496178, 0.20115821172110263, 0.23710910354412787, 0.2225156358582349, 0.2834839008570767, 0.2622654621264767, 0.19805420430854762, 0.2630067176279824]\n"
     ]
    }
   ],
   "source": [
    "print('This is the list of hamming distance for 50 iterations: '+str(hamming_distance_list))\n",
    "print('This is the list of hamming score for 50 iterations: '+str(hamming_score_list))\n",
    "print('This is the list of hamming loss for 50 iterations: '+str(hamming_loss_list))"
   ]
  },
  {
   "cell_type": "code",
   "execution_count": 15,
   "metadata": {},
   "outputs": [
    {
     "name": "stdout",
     "output_type": "stream",
     "text": [
      "The mean of hamming distance = 5276.42\n",
      "The standard deviation of hamming distance = 717.1761593918192\n",
      "The mean of hamming distance = 0.7555515404215891\n",
      "The standard deviation of hamming distance = 0.03322567335611856\n",
      "The mean of hamming distance = 0.24444845957841094\n",
      "The standard deviation of hamming distance = 0.03322567335611856\n"
     ]
    }
   ],
   "source": [
    "import statistics\n",
    "hd_mean = statistics.mean(hamming_distance_list)\n",
    "hd_std = statistics.pstdev(hamming_distance_list) \n",
    "print('The mean of hamming distance = '+str(hd_mean))\n",
    "print('The standard deviation of hamming distance = '+str(hd_std))\n",
    "\n",
    "hs_mean = statistics.mean(hamming_score_list)\n",
    "hs_std = statistics.pstdev(hamming_score_list) \n",
    "print('The mean of hamming distance = '+str(hs_mean))\n",
    "print('The standard deviation of hamming distance = '+str(hs_std))\n",
    "\n",
    "hl_mean = statistics.mean(hamming_loss_list)\n",
    "hl_std = statistics.pstdev(hamming_loss_list) \n",
    "print('The mean of hamming distance = '+str(hl_mean))\n",
    "print('The standard deviation of hamming distance = '+str(hl_std))"
   ]
  },
  {
   "cell_type": "markdown",
   "metadata": {},
   "source": [
    "<h5>ISLR 10.7.2<h5>"
   ]
  },
  {
   "cell_type": "code",
   "execution_count": 17,
   "metadata": {},
   "outputs": [
    {
     "name": "stdout",
     "output_type": "stream",
     "text": [
      "You can check the notebook folder if the picture did not show successfully.\n"
     ]
    }
   ],
   "source": [
    "print('You can check the notebook folder if the picture did not show successfully.')"
   ]
  },
  {
   "cell_type": "markdown",
   "metadata": {},
   "source": [
    "<h5>(a)<h5>"
   ]
  },
  {
   "cell_type": "markdown",
   "metadata": {},
   "source": [
    "![title](part_a.jpg)"
   ]
  },
  {
   "cell_type": "markdown",
   "metadata": {},
   "source": [
    "<h5>(b)<h5>"
   ]
  },
  {
   "cell_type": "markdown",
   "metadata": {},
   "source": [
    "![title](part_b.jpg)"
   ]
  },
  {
   "cell_type": "markdown",
   "metadata": {},
   "source": [
    "<h5>(c)<h5>"
   ]
  },
  {
   "cell_type": "code",
   "execution_count": 19,
   "metadata": {},
   "outputs": [
    {
     "name": "stdout",
     "output_type": "stream",
     "text": [
      "Observations 1 and 2 are in cluster 1 and observations 3 and 4 in cluster 2.\n"
     ]
    }
   ],
   "source": [
    "print('Observations 1 and 2 are in cluster 1 and observations 3 and 4 in cluster 2.')"
   ]
  },
  {
   "cell_type": "markdown",
   "metadata": {},
   "source": [
    "<h5>(d)<h5>"
   ]
  },
  {
   "cell_type": "code",
   "execution_count": 20,
   "metadata": {},
   "outputs": [
    {
     "name": "stdout",
     "output_type": "stream",
     "text": [
      "Observations 1, 2 and 3 are in cluster 1 and observation 4 in cluster 2.\n"
     ]
    }
   ],
   "source": [
    "print('Observations 1, 2 and 3 are in cluster 1 and observation 4 in cluster 2.')"
   ]
  },
  {
   "cell_type": "markdown",
   "metadata": {},
   "source": [
    "<h5>(e)<h5>"
   ]
  },
  {
   "cell_type": "markdown",
   "metadata": {},
   "source": [
    "![title](part_e.jpg)"
   ]
  }
 ],
 "metadata": {
  "kernelspec": {
   "display_name": "Python 3",
   "language": "python",
   "name": "python3"
  },
  "language_info": {
   "codemirror_mode": {
    "name": "ipython",
    "version": 3
   },
   "file_extension": ".py",
   "mimetype": "text/x-python",
   "name": "python",
   "nbconvert_exporter": "python",
   "pygments_lexer": "ipython3",
   "version": "3.8.3"
  }
 },
 "nbformat": 4,
 "nbformat_minor": 4
}
