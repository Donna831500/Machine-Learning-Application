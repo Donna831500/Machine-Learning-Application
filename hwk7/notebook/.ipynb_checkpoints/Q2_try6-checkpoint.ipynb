{
 "cells": [
  {
   "cell_type": "markdown",
   "metadata": {},
   "source": [
    "<h4>\n",
    "    DSCI 552 Homework 7<br>\n",
    "    Name: Yuhui Zou<br>\n",
    "    USC ID: 1812969805\n",
    "<h4>"
   ]
  },
  {
   "cell_type": "code",
   "execution_count": 1,
   "metadata": {},
   "outputs": [],
   "source": [
    "import pandas as pd\n",
    "import matplotlib.pyplot as plt \n",
    "import seaborn\n",
    "import numpy as np\n",
    "from sklearn.neighbors import KNeighborsClassifier\n",
    "from sklearn.metrics import confusion_matrix,roc_curve,auc\n",
    "import math\n",
    "from IPython.display import display\n",
    "import warnings\n",
    "import statistics\n",
    "warnings.filterwarnings('ignore')\n",
    "import sklearn.model_selection as model_selection\n",
    "from sklearn import svm\n",
    "from sklearn.svm import SVC\n",
    "from sklearn.model_selection import GridSearchCV\n",
    "from sklearn.svm import LinearSVC\n",
    "from sklearn import preprocessing\n",
    "from sklearn.pipeline import Pipeline\n",
    "import pickle"
   ]
  },
  {
   "cell_type": "code",
   "execution_count": 104,
   "metadata": {},
   "outputs": [],
   "source": [
    "def unpickle(file):\n",
    "    with open(file, 'rb') as fo:\n",
    "        dict_data = pickle.load(fo, encoding='bytes')\n",
    "    return dict_data\n",
    "\n",
    "\n",
    "def get_bird_data(data_list,index_list):\n",
    "    result = []\n",
    "    for each_index in index_list:\n",
    "        result.append(list(data_list[each_index]))\n",
    "    return result\n",
    "\n",
    "def convert_to_vector(all_data):\n",
    "    R_list = []\n",
    "    G_list = []\n",
    "    B_list = []\n",
    "    for each_picture in all_data:\n",
    "        R_list = R_list+each_picture[:1024]\n",
    "        G_list = G_list+each_picture[1024:2048]\n",
    "        B_list = B_list+each_picture[2048:]\n",
    "        \n",
    "    data = {'R':R_list, 'G':G_list, 'B':B_list} \n",
    "    df = pd.DataFrame(data)\n",
    "    return df\n",
    "\n",
    "def df2ndarray(img_df):\n",
    "    if img_df.iloc[0,:].size==3:\n",
    "        return img_df.to_numpy().reshape(32,32,3)\n",
    "    elif img_df.iloc[0,:].size==4:\n",
    "        return img_df.to_numpy().reshape(32,32,4)\n",
    "    else:\n",
    "        return 'false'\n",
    "    \n",
    "def add_c1(row):\n",
    "    if row['label'] == 0 :\n",
    "        return 1\n",
    "    else:\n",
    "        return 0\n",
    "    \n",
    "def add_c2(row):\n",
    "    if row['label'] == 1 :\n",
    "        return 1\n",
    "    else:\n",
    "        return 0\n",
    "    \n",
    "def add_c3(row):\n",
    "    if row['label'] == 2 :\n",
    "        return 1\n",
    "    else:\n",
    "        return 0\n",
    "    \n",
    "def add_c4(row):\n",
    "    if row['label'] == 3 :\n",
    "        return 1\n",
    "    else:\n",
    "        return 0\n",
    "    \n",
    "def get_error(l):\n",
    "    result = []\n",
    "    for each in l:\n",
    "        result.append(1-each)\n",
    "    return result\n",
    "\n",
    "def add_R(row,label_with_color):\n",
    "    if row['c1'] == 1:\n",
    "        return label_with_color[0][0]\n",
    "    elif row['c2'] == 1:\n",
    "        return label_with_color[1][0]\n",
    "    elif row['c3'] == 1:\n",
    "        return label_with_color[2][0]\n",
    "    elif row['c4'] == 1:\n",
    "        return label_with_color[3][0]\n",
    "    else:\n",
    "        return 'false'\n",
    "    \n",
    "def add_G(row,label_with_color):\n",
    "    if row['c1'] == 1:\n",
    "        return label_with_color[0][1]\n",
    "    elif row['c2'] == 1:\n",
    "        return label_with_color[1][1]\n",
    "    elif row['c3'] == 1:\n",
    "        return label_with_color[2][1]\n",
    "    elif row['c4'] == 1:\n",
    "        return label_with_color[3][1]\n",
    "    else:\n",
    "        return 'false'\n",
    "    \n",
    "def add_B(row,label_with_color):\n",
    "    if row['c1'] == 1:\n",
    "        return label_with_color[0][2]\n",
    "    elif row['c2'] == 1:\n",
    "        return label_with_color[1][2]\n",
    "    elif row['c3'] == 1:\n",
    "        return label_with_color[2][2]\n",
    "    elif row['c4'] == 1:\n",
    "        return label_with_color[3][2]\n",
    "    else:\n",
    "        return 'false'\n",
    "    \n",
    "def to_RGB(img,label_with_color):\n",
    "    temp = img.reshape(1024,4)\n",
    "    df_img = pd.DataFrame(data=temp, columns=['c1','c2','c3','c4'])\n",
    "    df_img['R'] = df_img.apply (lambda row: add_R(row,label_with_color), axis=1)\n",
    "    df_img['G'] = df_img.apply (lambda row: add_G(row,label_with_color), axis=1)\n",
    "    df_img['B'] = df_img.apply (lambda row: add_B(row,label_with_color), axis=1)\n",
    "    df_img_rgb = df_img[['R','G','B']]\n",
    "    return df2ndarray(df_img_rgb)\n",
    "\n",
    "def add_label(row):\n",
    "    c_list = []\n",
    "    c_list.append(row['c1_prob'])\n",
    "    c_list.append(row['c2_prob'])\n",
    "    c_list.append(row['c3_prob'])\n",
    "    c_list.append(row['c4_prob'])\n",
    "    return c_list.index(max(c_list))\n",
    "\n",
    "def to_c1c2c3c4(img,label_with_color):\n",
    "    temp = img.reshape(1024,4)\n",
    "    df_img = pd.DataFrame(data=temp, columns=['c1_prob','c2_prob','c3_prob','c4_prob'])\n",
    "    df_img['label'] = df_img.apply (lambda row: add_label(row), axis=1)\n",
    "    df_img['c1'] = df_img.apply (lambda row: add_c1(row), axis=1)\n",
    "    df_img['c2'] = df_img.apply (lambda row: add_c2(row), axis=1)\n",
    "    df_img['c3'] = df_img.apply (lambda row: add_c3(row), axis=1)\n",
    "    df_img['c4'] = df_img.apply (lambda row: add_c4(row), axis=1)\n",
    "    df_4color = df_img[['c1','c2','c3','c4']]\n",
    "    return df_4color.to_numpy()"
   ]
  },
  {
   "cell_type": "markdown",
   "metadata": {},
   "source": [
    "<h5>Question 1<h5>"
   ]
  },
  {
   "cell_type": "markdown",
   "metadata": {},
   "source": [
    "<h5>part (b)<h5>"
   ]
  },
  {
   "cell_type": "code",
   "execution_count": 3,
   "metadata": {},
   "outputs": [],
   "source": [
    "# '../data/wdbc.csv'\n",
    "batch_path_list = ['../data/cifar_10_batches_py/data_batch_1',\n",
    "                  '../data/cifar_10_batches_py/data_batch_2',\n",
    "                  '../data/cifar_10_batches_py/data_batch_3',\n",
    "                  '../data/cifar_10_batches_py/data_batch_4',\n",
    "                  '../data/cifar_10_batches_py/data_batch_5',\n",
    "                  '../data/cifar_10_batches_py/test_batch']\n",
    "all_data = []\n",
    "for i in range(0,len(batch_path_list)):\n",
    "    batch_path = batch_path_list[i]\n",
    "    batch = unpickle(batch_path)\n",
    "    label_list = batch.get(b'labels')\n",
    "    bird_index_list = [i for i in range(len(label_list)) if label_list[i]==2]\n",
    "    data_list = batch.get(b'data')\n",
    "    result = get_bird_data(data_list,bird_index_list)\n",
    "    all_data = all_data+result"
   ]
  },
  {
   "cell_type": "markdown",
   "metadata": {},
   "source": [
    "<h5>part (c)<h5>"
   ]
  },
  {
   "cell_type": "code",
   "execution_count": 4,
   "metadata": {},
   "outputs": [],
   "source": [
    "df = convert_to_vector(all_data)"
   ]
  },
  {
   "cell_type": "markdown",
   "metadata": {},
   "source": [
    "<h5>part (d)<h5>"
   ]
  },
  {
   "cell_type": "code",
   "execution_count": 6,
   "metadata": {},
   "outputs": [
    {
     "data": {
      "text/plain": [
       "KMeans(n_clusters=4, n_jobs=-1)"
      ]
     },
     "execution_count": 6,
     "metadata": {},
     "output_type": "execute_result"
    }
   ],
   "source": [
    "from sklearn.cluster import KMeans\n",
    "kmeans = KMeans(n_clusters=4, n_jobs=-1)\n",
    "kmeans.fit(df)"
   ]
  },
  {
   "cell_type": "code",
   "execution_count": 9,
   "metadata": {},
   "outputs": [
    {
     "name": "stdout",
     "output_type": "stream",
     "text": [
      "[array([230,  25,  75]), array([170, 255, 195]), array([  0,   0, 128]), array([255, 255, 255])]\n"
     ]
    }
   ],
   "source": [
    "# assign color to each label\n",
    "navy = np.array((0,0,128))\n",
    "red = np.array((230,25,75))\n",
    "mint = np.array((170,255,195))\n",
    "white = np.array((255,255,255))\n",
    "color_list = [navy,red,mint,white]\n",
    "centers = kmeans.cluster_centers_\n",
    "label_with_color = []\n",
    "for i in range (0,len(centers)):\n",
    "    dist_list = []\n",
    "    for j in range(0,len(color_list)):\n",
    "        dist = np.linalg.norm(centers[i]-color_list[j])\n",
    "        dist_list.append(dist)\n",
    "    min_index = dist_list.index(min(dist_list))\n",
    "    label_with_color.append(color_list[min_index])\n",
    "    del color_list[min_index]\n",
    "    \n",
    "print(label_with_color)"
   ]
  },
  {
   "cell_type": "code",
   "execution_count": 10,
   "metadata": {},
   "outputs": [],
   "source": [
    "df['label'] = kmeans.labels_\n",
    "df['c1'] = df.apply (lambda row: add_c1(row), axis=1)\n",
    "df['c2'] = df.apply (lambda row: add_c2(row), axis=1)\n",
    "df['c3'] = df.apply (lambda row: add_c3(row), axis=1)\n",
    "df['c4'] = df.apply (lambda row: add_c4(row), axis=1)\n",
    "df_4color = df[['c1','c2','c3','c4']]"
   ]
  },
  {
   "cell_type": "code",
   "execution_count": 11,
   "metadata": {},
   "outputs": [],
   "source": [
    "# convert to 4 color image\n",
    "rest_df = df_4color.copy()\n",
    "# train target\n",
    "train_img_list = []\n",
    "for i in range(0,5000):\n",
    "    current_img = rest_df.head(1024)\n",
    "    train_img_list.append(df2ndarray(current_img))\n",
    "    rest_df = rest_df.iloc[1024:]\n",
    "y_train = np.array(train_img_list)\n",
    "\n",
    "# test target\n",
    "test_img_list = []\n",
    "for i in range(0,1000):\n",
    "    current_img = rest_df.head(1024)\n",
    "    test_img_list.append(df2ndarray(current_img))\n",
    "    rest_df = rest_df.iloc[1024:]\n",
    "y_test = np.array(test_img_list)"
   ]
  },
  {
   "cell_type": "markdown",
   "metadata": {},
   "source": [
    "<h5>part (e)<h5>"
   ]
  },
  {
   "cell_type": "code",
   "execution_count": 13,
   "metadata": {},
   "outputs": [],
   "source": [
    "from skimage.color import rgb2gray\n",
    "df_RGB = df[['R','G','B']]"
   ]
  },
  {
   "cell_type": "code",
   "execution_count": 90,
   "metadata": {},
   "outputs": [
    {
     "name": "stdout",
     "output_type": "stream",
     "text": [
      "example grayscale image:\n"
     ]
    },
    {
     "data": {
      "text/plain": [
       "<matplotlib.image.AxesImage at 0x1aaca7449c8>"
      ]
     },
     "execution_count": 90,
     "metadata": {},
     "output_type": "execute_result"
    },
    {
     "data": {
      "image/png": "[encoded data removed]",
      "text/plain": [
       "<Figure size 432x288 with 1 Axes>"
      ]
     },
     "metadata": {
      "needs_background": "light"
     },
     "output_type": "display_data"
    }
   ],
   "source": [
    "# convert to 4 color image\n",
    "rest_df = df_RGB.copy()\n",
    "# train target\n",
    "train_img_list = []\n",
    "for i in range(0,5000):\n",
    "    current_img = rest_df.head(1024)\n",
    "    grayscale = rgb2gray(current_img.to_numpy().reshape(32,32,3)).reshape(32,32,1)\n",
    "    norm_gray = grayscale / np.linalg.norm(grayscale)\n",
    "    train_img_list.append(norm_gray)\n",
    "    rest_df = rest_df.iloc[1024:]\n",
    "x_train = np.array(train_img_list)\n",
    "\n",
    "# test target\n",
    "test_img_list = []\n",
    "for i in range(0,1000):\n",
    "    current_img = rest_df.head(1024)\n",
    "    grayscale = rgb2gray(current_img.to_numpy().reshape(32,32,3)).reshape(32,32,1)\n",
    "    norm_gray = grayscale / np.linalg.norm(grayscale)\n",
    "    test_img_list.append(norm_gray)\n",
    "    rest_df = rest_df.iloc[1024:]\n",
    "x_test = np.array(test_img_list)\n",
    "\n",
    "print('example grayscale image:')\n",
    "plt.imshow(test_img_list[0],cmap=plt.cm.gray)"
   ]
  },
  {
   "cell_type": "markdown",
   "metadata": {},
   "source": [
    "<h5>part (f)<h5>"
   ]
  },
  {
   "cell_type": "code",
   "execution_count": 39,
   "metadata": {},
   "outputs": [],
   "source": [
    "import tensorflow as tf\n",
    "from tensorflow.keras import datasets, layers, models"
   ]
  },
  {
   "cell_type": "code",
   "execution_count": 112,
   "metadata": {},
   "outputs": [
    {
     "name": "stdout",
     "output_type": "stream",
     "text": [
      "Model: \"sequential_3\"\n",
      "_________________________________________________________________\n",
      "Layer (type)                 Output Shape              Param #   \n",
      "=================================================================\n",
      "conv2d_6 (Conv2D)            (None, 32, 32, 32)        832       \n",
      "_________________________________________________________________\n",
      "max_pooling2d_6 (MaxPooling2 (None, 16, 16, 32)        0         \n",
      "_________________________________________________________________\n",
      "conv2d_7 (Conv2D)            (None, 16, 16, 64)        51264     \n",
      "_________________________________________________________________\n",
      "max_pooling2d_7 (MaxPooling2 (None, 8, 8, 64)          0         \n",
      "_________________________________________________________________\n",
      "reshape_3 (Reshape)          (None, 32, 32, 4)         0         \n",
      "_________________________________________________________________\n",
      "softmax_3 (Softmax)          (None, 32, 32, 4)         0         \n",
      "=================================================================\n",
      "Total params: 52,096\n",
      "Trainable params: 52,096\n",
      "Non-trainable params: 0\n",
      "_________________________________________________________________\n"
     ]
    }
   ],
   "source": [
    "model = models.Sequential()\n",
    "model.add(layers.Conv2D(32, (5, 5), activation='relu',padding='same', input_shape=(32, 32, 1)))\n",
    "model.add(layers.MaxPooling2D((2, 2)))\n",
    "model.add(layers.Conv2D(64, (5, 5), activation='relu',padding='same'))\n",
    "model.add(layers.MaxPooling2D((2, 2)))\n",
    "model.add(layers.Reshape((32, 32, 4)))\n",
    "#model.add(layers.Conv2D(4, (5, 5), activation='relu',padding='same'))\n",
    "#model.add(layers.Flatten())\n",
    "#model.add(layers.Dense(64, activation='relu'))\n",
    "#model.add(layers.Dense(4))\n",
    "\n",
    "model.add(layers.Softmax())#axis=-1\n",
    "model.summary()"
   ]
  },
  {
   "cell_type": "code",
   "execution_count": 113,
   "metadata": {},
   "outputs": [
    {
     "name": "stdout",
     "output_type": "stream",
     "text": [
      "Train on 5000 samples, validate on 1000 samples\n",
      "Epoch 1/30\n",
      "5000/5000 [==============================] - 8s 2ms/sample - loss: 1.3472 - acc: 0.3407 - val_loss: 1.3309 - val_acc: 0.3485\n",
      "Epoch 2/30\n",
      "5000/5000 [==============================] - 7s 1ms/sample - loss: 1.3157 - acc: 0.3724 - val_loss: 1.3064 - val_acc: 0.3869\n",
      "Epoch 3/30\n",
      "5000/5000 [==============================] - 7s 1ms/sample - loss: 1.3009 - acc: 0.3859 - val_loss: 1.3002 - val_acc: 0.3692\n",
      "Epoch 4/30\n",
      "5000/5000 [==============================] - 7s 1ms/sample - loss: 1.2930 - acc: 0.3911 - val_loss: 1.2923 - val_acc: 0.3936\n",
      "Epoch 5/30\n",
      "5000/5000 [==============================] - 11s 2ms/sample - loss: 1.2875 - acc: 0.3944 - val_loss: 1.2879 - val_acc: 0.4016\n",
      "Epoch 6/30\n",
      "5000/5000 [==============================] - 11s 2ms/sample - loss: 1.2842 - acc: 0.3970 - val_loss: 1.2828 - val_acc: 0.3975\n",
      "Epoch 7/30\n",
      "5000/5000 [==============================] - 8s 2ms/sample - loss: 1.2809 - acc: 0.3996 - val_loss: 1.2789 - val_acc: 0.4038\n",
      "Epoch 8/30\n",
      "5000/5000 [==============================] - 7s 1ms/sample - loss: 1.2785 - acc: 0.4030 - val_loss: 1.2808 - val_acc: 0.3975\n",
      "Epoch 9/30\n",
      "5000/5000 [==============================] - 7s 1ms/sample - loss: 1.2777 - acc: 0.4036 - val_loss: 1.2757 - val_acc: 0.4062\n",
      "Epoch 10/30\n",
      "5000/5000 [==============================] - 7s 1ms/sample - loss: 1.2770 - acc: 0.4027 - val_loss: 1.2744 - val_acc: 0.4055\n",
      "Epoch 11/30\n",
      "5000/5000 [==============================] - 7s 1ms/sample - loss: 1.2751 - acc: 0.4051 - val_loss: 1.2767 - val_acc: 0.3991\n",
      "Epoch 12/30\n",
      "5000/5000 [==============================] - 7s 1ms/sample - loss: 1.2747 - acc: 0.4052 - val_loss: 1.2737 - val_acc: 0.4093\n",
      "Epoch 13/30\n",
      "5000/5000 [==============================] - 7s 1ms/sample - loss: 1.2742 - acc: 0.4062 - val_loss: 1.2768 - val_acc: 0.4083\n",
      "Epoch 14/30\n",
      "5000/5000 [==============================] - 7s 1ms/sample - loss: 1.2720 - acc: 0.4068 - val_loss: 1.2697 - val_acc: 0.4071\n",
      "Epoch 15/30\n",
      "5000/5000 [==============================] - 7s 1ms/sample - loss: 1.2696 - acc: 0.4100 - val_loss: 1.2697 - val_acc: 0.4067\n",
      "Epoch 16/30\n",
      "5000/5000 [==============================] - 8s 2ms/sample - loss: 1.2688 - acc: 0.4111 - val_loss: 1.2678 - val_acc: 0.4144\n",
      "Epoch 17/30\n",
      "5000/5000 [==============================] - 7s 1ms/sample - loss: 1.2688 - acc: 0.4108 - val_loss: 1.2676 - val_acc: 0.4103\n",
      "Epoch 18/30\n",
      "5000/5000 [==============================] - 8s 2ms/sample - loss: 1.2677 - acc: 0.4115 - val_loss: 1.2663 - val_acc: 0.4124\n",
      "Epoch 19/30\n",
      "5000/5000 [==============================] - 7s 1ms/sample - loss: 1.2669 - acc: 0.4129 - val_loss: 1.2644 - val_acc: 0.4152\n",
      "Epoch 20/30\n",
      "5000/5000 [==============================] - 7s 1ms/sample - loss: 1.2666 - acc: 0.4127 - val_loss: 1.2639 - val_acc: 0.4154\n",
      "Epoch 21/30\n",
      "5000/5000 [==============================] - 7s 1ms/sample - loss: 1.2658 - acc: 0.4134 - val_loss: 1.2637 - val_acc: 0.4166\n",
      "Epoch 22/30\n",
      "5000/5000 [==============================] - 8s 2ms/sample - loss: 1.2650 - acc: 0.4140 - val_loss: 1.2621 - val_acc: 0.4172\n",
      "Epoch 23/30\n",
      "5000/5000 [==============================] - 8s 2ms/sample - loss: 1.2621 - acc: 0.4173 - val_loss: 1.2596 - val_acc: 0.4177\n",
      "Epoch 24/30\n",
      "5000/5000 [==============================] - 8s 2ms/sample - loss: 1.2605 - acc: 0.4188 - val_loss: 1.2588 - val_acc: 0.4194\n",
      "Epoch 25/30\n",
      "5000/5000 [==============================] - 8s 2ms/sample - loss: 1.2610 - acc: 0.4173 - val_loss: 1.2597 - val_acc: 0.4181\n",
      "Epoch 26/30\n",
      "5000/5000 [==============================] - 8s 2ms/sample - loss: 1.2598 - acc: 0.4189 - val_loss: 1.2591 - val_acc: 0.4205\n",
      "Epoch 27/30\n",
      "5000/5000 [==============================] - 8s 2ms/sample - loss: 1.2593 - acc: 0.4194 - val_loss: 1.2581 - val_acc: 0.4182\n",
      "Epoch 28/30\n",
      "5000/5000 [==============================] - 8s 2ms/sample - loss: 1.2581 - acc: 0.4207 - val_loss: 1.2566 - val_acc: 0.4202\n",
      "Epoch 29/30\n",
      "5000/5000 [==============================] - 7s 1ms/sample - loss: 1.2574 - acc: 0.4199 - val_loss: 1.2568 - val_acc: 0.4193\n",
      "Epoch 30/30\n",
      "5000/5000 [==============================] - 8s 2ms/sample - loss: 1.2575 - acc: 0.4198 - val_loss: 1.2562 - val_acc: 0.4226\n"
     ]
    }
   ],
   "source": [
    "model.compile(optimizer='adam',\n",
    "              loss=tf.keras.losses.CategoricalCrossentropy(),#from_logits=True\n",
    "              metrics=['accuracy'])\n",
    "history = model.fit(x_train, y_train, epochs=30, \n",
    "                    validation_data=(x_test, y_test))"
   ]
  },
  {
   "cell_type": "code",
   "execution_count": 114,
   "metadata": {},
   "outputs": [],
   "source": [
    "train_error = get_error(history.history['acc'])\n",
    "test_error = get_error(history.history['val_acc'])"
   ]
  },
  {
   "cell_type": "code",
   "execution_count": 115,
   "metadata": {},
   "outputs": [
    {
     "data": {
      "text/plain": [
       "<matplotlib.legend.Legend at 0x1aacc302088>"
      ]
     },
     "execution_count": 115,
     "metadata": {},
     "output_type": "execute_result"
    },
    {
     "data": {
      "image/png": "[encoded data removed]",
      "text/plain": [
       "<Figure size 432x288 with 1 Axes>"
      ]
     },
     "metadata": {
      "needs_background": "light"
     },
     "output_type": "display_data"
    }
   ],
   "source": [
    "plt.plot(train_error, label='train error')\n",
    "plt.plot(test_error, label = 'test error')\n",
    "plt.xlabel('Epoch')\n",
    "plt.ylabel('Error')\n",
    "plt.ylim([0.5, 0.7])\n",
    "plt.legend(loc='lower right')"
   ]
  },
  {
   "cell_type": "code",
   "execution_count": 131,
   "metadata": {},
   "outputs": [],
   "source": [
    "test_list = y_test[:10]\n",
    "origin_img_list = []\n",
    "for each_img in test_list:\n",
    "    df_img_rgb = to_RGB(each_img,label_with_color)\n",
    "    origin_img_list.append(df_img_rgb)"
   ]
  },
  {
   "cell_type": "code",
   "execution_count": 132,
   "metadata": {},
   "outputs": [],
   "source": [
    "y_predict = model.predict(x_test)\n",
    "predict_list = y_predict[:10]\n",
    "predict_img_list = []\n",
    "for each_img in predict_list:\n",
    "    temp_img = to_c1c2c3c4(each_img,label_with_color)\n",
    "    df_img_rgb = to_RGB(temp_img,label_with_color)\n",
    "    predict_img_list.append(df_img_rgb)"
   ]
  },
  {
   "cell_type": "code",
   "execution_count": 137,
   "metadata": {},
   "outputs": [
    {
     "data": {
      "text/plain": [
       "<Figure size 432x288 with 0 Axes>"
      ]
     },
     "metadata": {},
     "output_type": "display_data"
    },
    {
     "data": {
      "image/png": "[encoded data removed]",
      "text/plain": [
       "<Figure size 720x7200 with 20 Axes>"
      ]
     },
     "metadata": {
      "needs_background": "light"
     },
     "output_type": "display_data"
    }
   ],
   "source": [
    "print('The left column are the original 4 color image and the right column are the artificially colored version.')\n",
    "plt.figure()\n",
    "fig, axarr = plt.subplots(10,2) \n",
    "\n",
    "axarr[0][0].imshow(origin_img_list[0])\n",
    "axarr[1][0].imshow(origin_img_list[1])\n",
    "axarr[2][0].imshow(origin_img_list[2])\n",
    "axarr[3][0].imshow(origin_img_list[3])\n",
    "axarr[4][0].imshow(origin_img_list[4])\n",
    "axarr[5][0].imshow(origin_img_list[5])\n",
    "axarr[6][0].imshow(origin_img_list[6])\n",
    "axarr[7][0].imshow(origin_img_list[7])\n",
    "axarr[8][0].imshow(origin_img_list[8])\n",
    "axarr[9][0].imshow(origin_img_list[9])\n",
    "\n",
    "axarr[0][1].imshow(predict_img_list[0])\n",
    "axarr[1][1].imshow(predict_img_list[1])\n",
    "axarr[2][1].imshow(predict_img_list[2])\n",
    "axarr[3][1].imshow(predict_img_list[3])\n",
    "axarr[4][1].imshow(predict_img_list[4])\n",
    "axarr[5][1].imshow(predict_img_list[5])\n",
    "axarr[6][1].imshow(predict_img_list[6])\n",
    "axarr[7][1].imshow(predict_img_list[7])\n",
    "axarr[8][1].imshow(predict_img_list[8])\n",
    "axarr[9][1].imshow(predict_img_list[9])\n",
    "\n",
    "fig.set_figheight(100)\n",
    "fig.set_figwidth(10)\n",
    "plt.show()"
   ]
  }
 ],
 "metadata": {
  "kernelspec": {
   "display_name": "Python 3",
   "language": "python",
   "name": "python3"
  },
  "language_info": {
   "codemirror_mode": {
    "name": "ipython",
    "version": 3
   },
   "file_extension": ".py",
   "mimetype": "text/x-python",
   "name": "python",
   "nbconvert_exporter": "python",
   "pygments_lexer": "ipython3",
   "version": "3.7.9"
  }
 },
 "nbformat": 4,
 "nbformat_minor": 4
}
