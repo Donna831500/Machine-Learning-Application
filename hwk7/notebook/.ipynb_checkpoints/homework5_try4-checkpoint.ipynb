{
 "cells": [
  {
   "cell_type": "markdown",
   "metadata": {},
   "source": [
    "<h4>\n",
    "    DSCI 552 Homework 5<br>\n",
    "    Name: Yuhui Zou<br>\n",
    "    USC ID: 1812969805\n",
    "<h4>"
   ]
  },
  {
   "cell_type": "code",
   "execution_count": 1,
   "metadata": {},
   "outputs": [],
   "source": [
    "import pandas as pd\n",
    "import matplotlib.pyplot as plt \n",
    "import seaborn\n",
    "import numpy as np\n",
    "from sklearn.neighbors import KNeighborsClassifier\n",
    "from sklearn.metrics import confusion_matrix\n",
    "import math\n",
    "from IPython.display import display\n",
    "import warnings\n",
    "import statistics\n",
    "warnings.filterwarnings('ignore')\n",
    "import sklearn.model_selection as model_selection\n",
    "from sklearn import svm\n",
    "from sklearn.svm import SVC\n",
    "from sklearn.model_selection import GridSearchCV\n",
    "from sklearn.svm import LinearSVC"
   ]
  },
  {
   "cell_type": "code",
   "execution_count": 3,
   "metadata": {},
   "outputs": [],
   "source": [
    "def get_match_number(y_predict,y_true):\n",
    "    y_predict_copy = list(y_predict)\n",
    "    y_true_copy = list(y_true)\n",
    "    #print(y_true_copy)\n",
    "    number_of_match = 0\n",
    "    for i in range(0,len(y_predict_copy)):\n",
    "        if y_predict_copy[i]==y_true_copy[i]:\n",
    "            number_of_match = number_of_match+1\n",
    "    return number_of_match"
   ]
  },
  {
   "cell_type": "markdown",
   "metadata": {},
   "source": [
    "<h5>Question 1<h5>"
   ]
  },
  {
   "cell_type": "markdown",
   "metadata": {},
   "source": [
    "<h5>part (a)<h5>"
   ]
  },
  {
   "cell_type": "code",
   "execution_count": 4,
   "metadata": {},
   "outputs": [],
   "source": [
    "temp = pd.read_csv('../data/Anuran_Calls_MFCCs/Frogs_MFCCs.csv',\n",
    "                na_values='?',\n",
    "                index_col=None)\n",
    "\n",
    "df_raw = temp.iloc[:,:-1]\n",
    "X = df_raw.iloc[:,:-3]\n",
    "Y = df_raw.iloc[:,-3:]\n",
    "X_train, X_test, Y_train, Y_test = model_selection.train_test_split(X, Y, train_size=0.7,test_size=0.3, random_state=10);\n",
    "Y_train_family = Y_train[['Family']]\n",
    "Y_train_genus = Y_train[['Genus']]\n",
    "Y_train_species = Y_train[['Species']]\n",
    "Y_test_family = Y_test[['Family']]\n",
    "Y_test_genus = Y_test[['Genus']]\n",
    "Y_test_species = Y_test[['Species']]"
   ]
  },
  {
   "cell_type": "markdown",
   "metadata": {},
   "source": [
    "<h5>part (b)<h5>"
   ]
  },
  {
   "cell_type": "markdown",
   "metadata": {},
   "source": [
    "<h5>ii)<h5>"
   ]
  },
  {
   "cell_type": "code",
   "execution_count": 4,
   "metadata": {},
   "outputs": [],
   "source": [
    "gaussian_list = np.linspace(0.1,2,20)\n",
    "temp_list = list(range(-3,6))\n",
    "c_list = []\n",
    "for i in temp_list:\n",
    "    c_list.append(pow(10,i))"
   ]
  },
  {
   "cell_type": "code",
   "execution_count": 33,
   "metadata": {},
   "outputs": [],
   "source": [
    "# family\n",
    "parameters = {'kernel':['rbf'], 'C':c_list,'gamma':gaussian_list}\n",
    "svc = svm.SVC()\n",
    "clf_family = GridSearchCV(estimator = svc, param_grid = parameters,cv=10,scoring='accuracy',n_jobs=-1)\n",
    "clf_family.fit(X_train, Y_train_family)\n",
    "Y_predict_famlily = clf_family.predict(X_test)"
   ]
  },
  {
   "cell_type": "code",
   "execution_count": 35,
   "metadata": {},
   "outputs": [],
   "source": [
    "# Genus\n",
    "parameters = {'kernel':['rbf'], 'C':c_list,'gamma':gaussian_list}\n",
    "svc = svm.SVC()\n",
    "clf_genus = GridSearchCV(estimator = svc, param_grid = parameters,cv=10,scoring='accuracy',n_jobs=-1)\n",
    "clf_genus.fit(X_train, Y_train_genus)\n",
    "Y_predict_genus = clf_genus.predict(X_test)"
   ]
  },
  {
   "cell_type": "code",
   "execution_count": 36,
   "metadata": {},
   "outputs": [],
   "source": [
    "# Species\n",
    "parameters = {'kernel':['rbf'], 'C':c_list,'gamma':gaussian_list}\n",
    "svc = svm.SVC()\n",
    "clf_species = GridSearchCV(estimator = svc, param_grid = parameters,cv=10,scoring='accuracy',n_jobs=-1)\n",
    "clf_species.fit(X_train, Y_train_species)\n",
    "Y_predict_species = clf_species.predict(X_test)"
   ]
  },
  {
   "cell_type": "code",
   "execution_count": 58,
   "metadata": {},
   "outputs": [
    {
     "name": "stdout",
     "output_type": "stream",
     "text": [
      "The exact number of match is 6423\n",
      "The hamming score is 0.9916628068550255\n",
      "The hamming loss is 0.008337193144974525\n"
     ]
    }
   ],
   "source": [
    "number_of_test = len(Y_predict_famlily)*3\n",
    "family_match = get_match_number(Y_predict_famlily,Y_test_family['Family'])\n",
    "genus_match = get_match_number(Y_predict_genus,Y_test_genus['Genus'])\n",
    "species_match = get_match_number(Y_predict_species,Y_test_species['Species'])\n",
    "total_match = family_match+genus_match+species_match\n",
    "hamming_score = total_match/number_of_test\n",
    "hamming_loss=(number_of_test-total_match)/number_of_test\n",
    "print('The exact number of match is '+str(total_match))\n",
    "print('The hamming score is '+str(hamming_score))\n",
    "print('The hamming loss is '+str(hamming_loss))"
   ]
  },
  {
   "cell_type": "markdown",
   "metadata": {},
   "source": [
    "<h5>iii)<h5>"
   ]
  },
  {
   "cell_type": "code",
   "execution_count": 5,
   "metadata": {},
   "outputs": [],
   "source": [
    "# standardize data\n",
    "from sklearn.preprocessing import StandardScaler\n",
    "scaler = StandardScaler()\n",
    "scaler.fit(X_train)\n",
    "data = scaler.transform(X_train)\n",
    "standard_X_train = pd.DataFrame(data = scaler.transform(X_train))\n",
    "standard_X_test = pd.DataFrame(data =scaler.transform(X_test))"
   ]
  },
  {
   "cell_type": "code",
   "execution_count": 10,
   "metadata": {},
   "outputs": [],
   "source": [
    "# family \n",
    "parameters = {'penalty':['l1'],'C':c_list,'dual':[False]}\n",
    "svc = LinearSVC()\n",
    "clf_family = GridSearchCV(estimator = svc, param_grid = parameters,cv=10,scoring='accuracy',n_jobs=-1)\n",
    "clf_family.fit(standard_X_train, Y_train_family)\n",
    "Y_predict_famlily = clf_family.predict(standard_X_test)"
   ]
  },
  {
   "cell_type": "code",
   "execution_count": 11,
   "metadata": {},
   "outputs": [],
   "source": [
    "# Genus\n",
    "parameters = {'penalty':['l1'],'C':c_list,'dual':[False]}\n",
    "svc = LinearSVC()\n",
    "clf_genus = GridSearchCV(estimator = svc, param_grid = parameters,cv=10,scoring='accuracy',n_jobs=-1)\n",
    "clf_genus.fit(standard_X_train, Y_train_genus)\n",
    "Y_predict_genus = clf_genus.predict(standard_X_test)"
   ]
  },
  {
   "cell_type": "code",
   "execution_count": 12,
   "metadata": {},
   "outputs": [],
   "source": [
    "# Species\n",
    "parameters = {'penalty':['l1'],'C':c_list,'dual':[False]}\n",
    "svc = LinearSVC()\n",
    "clf_species = GridSearchCV(estimator = svc, param_grid = parameters,cv=10,scoring='accuracy',n_jobs=-1)\n",
    "clf_species.fit(standard_X_train, Y_train_species)\n",
    "Y_predict_species = clf_species.predict(standard_X_test)"
   ]
  },
  {
   "cell_type": "code",
   "execution_count": 13,
   "metadata": {},
   "outputs": [
    {
     "name": "stdout",
     "output_type": "stream",
     "text": [
      "The exact number of match is 6139\n",
      "The hamming score is 0.9478153466110854\n",
      "The hamming loss is 0.05218465338891462\n"
     ]
    }
   ],
   "source": [
    "number_of_test = len(Y_predict_famlily)*3\n",
    "family_match = get_match_number(Y_predict_famlily,Y_test_family['Family'])\n",
    "genus_match = get_match_number(Y_predict_genus,Y_test_genus['Genus'])\n",
    "species_match = get_match_number(Y_predict_species,Y_test_species['Species'])\n",
    "total_match = family_match+genus_match+species_match\n",
    "hamming_score = total_match/number_of_test\n",
    "hamming_loss=(number_of_test-total_match)/number_of_test\n",
    "print('The exact number of match is '+str(total_match))\n",
    "print('The hamming score is '+str(hamming_score))\n",
    "print('The hamming loss is '+str(hamming_loss))"
   ]
  },
  {
   "cell_type": "markdown",
   "metadata": {},
   "source": [
    "<h5>iv）<h5>"
   ]
  },
  {
   "cell_type": "code",
   "execution_count": 14,
   "metadata": {},
   "outputs": [],
   "source": [
    "from imblearn.over_sampling import SMOTE\n",
    "sm = SMOTE(random_state = 2) \n",
    "#X_train_res, y_train_res = sm.fit_sample(X_train, y_train.ravel()) \n",
    "X_train_smote1, Y_train_smote_family = sm.fit_sample(X_train, Y_train_family)\n",
    "X_train_smote2, Y_train_smote_genus = sm.fit_sample(X_train, Y_train_genus)\n",
    "X_train_smote3, Y_train_smote_species = sm.fit_sample(X_train, Y_train_species)"
   ]
  },
  {
   "cell_type": "code",
   "execution_count": 40,
   "metadata": {},
   "outputs": [],
   "source": [
    "# family  \n",
    "parameters = {'penalty':['l1'],'C':c_list,'dual':[False]}\n",
    "svc = LinearSVC()\n",
    "clf_family = GridSearchCV(estimator = svc, param_grid = parameters,cv=10,scoring='accuracy',n_jobs=-1)\n",
    "clf_family.fit(X_train_smote1, Y_train_smote_family)\n",
    "Y_predict_famlily = clf_family.predict(standard_X_test)"
   ]
  },
  {
   "cell_type": "code",
   "execution_count": 15,
   "metadata": {},
   "outputs": [],
   "source": [
    "# Genus\n",
    "parameters = {'penalty':['l1'],'C':c_list,'dual':[False]}\n",
    "svc = LinearSVC()\n",
    "clf_genus = GridSearchCV(estimator = svc, param_grid = parameters,cv=10,scoring='accuracy',n_jobs=-1)\n",
    "clf_genus.fit(X_train_smote2, Y_train_smote_genus)\n",
    "Y_predict_genus = clf_genus.predict(standard_X_test)"
   ]
  },
  {
   "cell_type": "code",
   "execution_count": 17,
   "metadata": {},
   "outputs": [],
   "source": [
    "# Species\n",
    "parameters = {'penalty':['l1'],'C':c_list,'dual':[False]}\n",
    "svc = LinearSVC()\n",
    "clf_species = GridSearchCV(estimator = svc, param_grid = parameters,cv=10,scoring='accuracy',n_jobs=-1)\n",
    "clf_species.fit(X_train_smote3, Y_train_smote_species)\n",
    "Y_predict_species = clf_species.predict(standard_X_test)"
   ]
  },
  {
   "cell_type": "code",
   "execution_count": 18,
   "metadata": {},
   "outputs": [
    {
     "name": "stdout",
     "output_type": "stream",
     "text": [
      "The exact number of match is 4580\n",
      "The hamming score is 0.7071174926663579\n",
      "The hamming loss is 0.29288250733364213\n"
     ]
    }
   ],
   "source": [
    "number_of_test = len(Y_predict_famlily)*3\n",
    "family_match = get_match_number(Y_predict_famlily,Y_test_family['Family'])\n",
    "genus_match = get_match_number(Y_predict_genus,Y_test_genus['Genus'])\n",
    "species_match = get_match_number(Y_predict_species,Y_test_species['Species'])\n",
    "total_match = family_match+genus_match+species_match\n",
    "hamming_score = total_match/number_of_test\n",
    "hamming_loss=(number_of_test-total_match)/number_of_test\n",
    "print('The exact number of match is '+str(total_match))\n",
    "print('The hamming score is '+str(hamming_score))\n",
    "print('The hamming loss is '+str(hamming_loss))"
   ]
  },
  {
   "cell_type": "code",
   "execution_count": null,
   "metadata": {},
   "outputs": [],
   "source": []
  },
  {
   "cell_type": "markdown",
   "metadata": {},
   "source": [
    "<h5>Question 2<h5>"
   ]
  },
  {
   "cell_type": "markdown",
   "metadata": {},
   "source": [
    "<h5>a)<h5>"
   ]
  },
  {
   "cell_type": "code",
   "execution_count": 7,
   "metadata": {},
   "outputs": [
    {
     "data": {
      "text/plain": [
       "3157.638128352137"
      ]
     },
     "execution_count": 7,
     "metadata": {},
     "output_type": "execute_result"
    }
   ],
   "source": [
    "from sklearn import metrics\n",
    "import numpy as np\n",
    "from sklearn.cluster import KMeans\n",
    "from sklearn.cluster import MiniBatchKMeans\n",
    "kmeans_model = KMeans(n_clusters=3, random_state=1).fit(X)\n",
    "labels = kmeans_model.labels_\n",
    "metrics.calinski_harabasz_score(X, labels)"
   ]
  },
  {
   "cell_type": "code",
   "execution_count": 72,
   "metadata": {},
   "outputs": [
    {
     "name": "stdout",
     "output_type": "stream",
     "text": [
      "[0 0 0 0 0 0 0 0 0 0 0 0]\n",
      "0    12\n",
      "dtype: int64\n"
     ]
    }
   ],
   "source": [
    "from sklearn.cluster import MiniBatchKMeans\n",
    "import numpy as np\n",
    "temp = np.array([[1, 2], [1, 4], [1, 0],\n",
    "              [4, 2], [4, 0], [4, 4],\n",
    "              [4, 5], [0, 1], [2, 2],\n",
    "              [3, 2], [5, 5], [1, -1]])\n",
    "\n",
    "\n",
    "# fit on the whole data\n",
    "kmeans = MiniBatchKMeans(n_clusters=1).fit(temp)\n",
    "kmeans.cluster_centers_\n",
    "print(kmeans.labels_)\n",
    "print(pd.Series(kmeans.labels_).value_counts())\n",
    "\n",
    "#kmeans.predict([[0, 0], [4, 4]])"
   ]
  },
  {
   "cell_type": "code",
   "execution_count": 71,
   "metadata": {},
   "outputs": [
    {
     "data": {
      "text/plain": [
       "array([0, 0, 0, ..., 0, 0, 0])"
      ]
     },
     "execution_count": 71,
     "metadata": {},
     "output_type": "execute_result"
    }
   ],
   "source": [
    "CH_list = []\n",
    "kmeans = MiniBatchKMeans(n_clusters=2).fit(X)\n",
    "labels = kmeans.labels_\n",
    "CH_list.append(metrics.calinski_harabasz_score(X, labels))\n",
    "CH_list\n",
    "labels\n",
    "\n",
    "family_list = Y['Family'].tolist()\n",
    "genus_list = Y['Genus'].tolist()\n",
    "species_list = Y['Species'].tolist()"
   ]
  },
  {
   "cell_type": "code",
   "execution_count": 8,
   "metadata": {},
   "outputs": [],
   "source": [
    "\n",
    "from sklearn import metrics\n",
    "score_list = []\n",
    "bs = 5\n",
    "for i in range(2,51):\n",
    "    kmeans = MiniBatchKMeans(n_clusters=i,batch_size=bs).fit(X)\n",
    "    labels = kmeans.labels_\n",
    "    score_list.append(metrics.silhouette_score(X, labels, metric='euclidean'))"
   ]
  },
  {
   "cell_type": "code",
   "execution_count": 23,
   "metadata": {},
   "outputs": [
    {
     "data": {
      "text/html": [
       "<div>\n",
       "<style scoped>\n",
       "    .dataframe tbody tr th:only-of-type {\n",
       "        vertical-align: middle;\n",
       "    }\n",
       "\n",
       "    .dataframe tbody tr th {\n",
       "        vertical-align: top;\n",
       "    }\n",
       "\n",
       "    .dataframe thead th {\n",
       "        text-align: right;\n",
       "    }\n",
       "</style>\n",
       "<table border=\"1\" class=\"dataframe\">\n",
       "  <thead>\n",
       "    <tr style=\"text-align: right;\">\n",
       "      <th></th>\n",
       "      <th>Family</th>\n",
       "      <th>Genus</th>\n",
       "      <th>Species</th>\n",
       "    </tr>\n",
       "  </thead>\n",
       "  <tbody>\n",
       "    <tr>\n",
       "      <th>0</th>\n",
       "      <td>Leptodactylidae</td>\n",
       "      <td>Adenomera</td>\n",
       "      <td>AdenomeraAndre</td>\n",
       "    </tr>\n",
       "    <tr>\n",
       "      <th>1</th>\n",
       "      <td>Leptodactylidae</td>\n",
       "      <td>Adenomera</td>\n",
       "      <td>AdenomeraAndre</td>\n",
       "    </tr>\n",
       "    <tr>\n",
       "      <th>2</th>\n",
       "      <td>Leptodactylidae</td>\n",
       "      <td>Adenomera</td>\n",
       "      <td>AdenomeraAndre</td>\n",
       "    </tr>\n",
       "    <tr>\n",
       "      <th>3</th>\n",
       "      <td>Leptodactylidae</td>\n",
       "      <td>Adenomera</td>\n",
       "      <td>AdenomeraAndre</td>\n",
       "    </tr>\n",
       "    <tr>\n",
       "      <th>4</th>\n",
       "      <td>Leptodactylidae</td>\n",
       "      <td>Adenomera</td>\n",
       "      <td>AdenomeraAndre</td>\n",
       "    </tr>\n",
       "    <tr>\n",
       "      <th>...</th>\n",
       "      <td>...</td>\n",
       "      <td>...</td>\n",
       "      <td>...</td>\n",
       "    </tr>\n",
       "    <tr>\n",
       "      <th>7190</th>\n",
       "      <td>Hylidae</td>\n",
       "      <td>Scinax</td>\n",
       "      <td>ScinaxRuber</td>\n",
       "    </tr>\n",
       "    <tr>\n",
       "      <th>7191</th>\n",
       "      <td>Hylidae</td>\n",
       "      <td>Scinax</td>\n",
       "      <td>ScinaxRuber</td>\n",
       "    </tr>\n",
       "    <tr>\n",
       "      <th>7192</th>\n",
       "      <td>Hylidae</td>\n",
       "      <td>Scinax</td>\n",
       "      <td>ScinaxRuber</td>\n",
       "    </tr>\n",
       "    <tr>\n",
       "      <th>7193</th>\n",
       "      <td>Hylidae</td>\n",
       "      <td>Scinax</td>\n",
       "      <td>ScinaxRuber</td>\n",
       "    </tr>\n",
       "    <tr>\n",
       "      <th>7194</th>\n",
       "      <td>Hylidae</td>\n",
       "      <td>Scinax</td>\n",
       "      <td>ScinaxRuber</td>\n",
       "    </tr>\n",
       "  </tbody>\n",
       "</table>\n",
       "<p>7195 rows × 3 columns</p>\n",
       "</div>"
      ],
      "text/plain": [
       "               Family      Genus         Species\n",
       "0     Leptodactylidae  Adenomera  AdenomeraAndre\n",
       "1     Leptodactylidae  Adenomera  AdenomeraAndre\n",
       "2     Leptodactylidae  Adenomera  AdenomeraAndre\n",
       "3     Leptodactylidae  Adenomera  AdenomeraAndre\n",
       "4     Leptodactylidae  Adenomera  AdenomeraAndre\n",
       "...               ...        ...             ...\n",
       "7190          Hylidae     Scinax     ScinaxRuber\n",
       "7191          Hylidae     Scinax     ScinaxRuber\n",
       "7192          Hylidae     Scinax     ScinaxRuber\n",
       "7193          Hylidae     Scinax     ScinaxRuber\n",
       "7194          Hylidae     Scinax     ScinaxRuber\n",
       "\n",
       "[7195 rows x 3 columns]"
      ]
     },
     "execution_count": 23,
     "metadata": {},
     "output_type": "execute_result"
    }
   ],
   "source": [
    "Y"
   ]
  },
  {
   "cell_type": "code",
   "execution_count": 29,
   "metadata": {},
   "outputs": [
    {
     "data": {
      "text/plain": [
       "[[{}, {}, {}], [{}, {}, {}], [{}, {}, {}], [{}, {}, {}]]"
      ]
     },
     "execution_count": 29,
     "metadata": {},
     "output_type": "execute_result"
    }
   ],
   "source": [
    "best_k = score_list.index(max(score_list))+2\n",
    "kmeans = MiniBatchKMeans(n_clusters=best_k,batch_size=bs).fit(X)\n",
    "labels = kmeans.labels_\n",
    "labels\n",
    "#print(pd.Series(kmeans.labels_).value_counts())\n",
    "total_list = []\n",
    "for i in range(0,best_k):\n",
    "    total_list.append([{},{},{}])\n",
    "total_list"
   ]
  },
  {
   "cell_type": "code",
   "execution_count": 31,
   "metadata": {},
   "outputs": [],
   "source": [
    "def add_to_triple(label_triple_list,family_value,genus_value,species_value):\n",
    "    result_triple_list = []\n",
    "    \n",
    "    # family\n",
    "    family_dict = label_triple_list[0]\n",
    "    if family_value in family_dict:\n",
    "        previous_value = family_dict.get(family_value)\n",
    "        family_dict.update({family_value: previous_value+1})\n",
    "    else:\n",
    "        family_dict.update({family_value: 1})\n",
    "    result_triple_list.append(family_dict) \n",
    "    \n",
    "    #genus\n",
    "    genus_dict = label_triple_list[1]\n",
    "    if genus_value in genus_dict:\n",
    "        previous_value = genus_dict.get(genus_value)\n",
    "        genus_dict.update({genus_value: previous_value+1})\n",
    "    else:\n",
    "        genus_dict.update({genus_value: 1})\n",
    "    result_triple_list.append(genus_dict) \n",
    "    \n",
    "    #species\n",
    "    species_dict = label_triple_list[2]\n",
    "    if species_value in species_dict:\n",
    "        previous_value = species_dict.get(species_value)\n",
    "        species_dict.update({species_value: previous_value+1})\n",
    "    else:\n",
    "        species_dict.update({species_value: 1})\n",
    "    result_triple_list.append(species_dict) \n",
    "    \n",
    "    return result_triple_list"
   ]
  },
  {
   "cell_type": "code",
   "execution_count": 35,
   "metadata": {},
   "outputs": [],
   "source": [
    "for i in range(0,len(labels)):\n",
    "    each_label = labels[i]\n",
    "    family_value = family_list[i]\n",
    "    genus_value = genus_list[i]\n",
    "    species_value = species_list[i]\n",
    "    label_triple = total_list[each_label]\n",
    "    added_triple = add_to_triple(label_triple,family_value,genus_value,species_value)\n",
    "    total_list[each_label]=added_triple"
   ]
  },
  {
   "cell_type": "code",
   "execution_count": 40,
   "metadata": {},
   "outputs": [
    {
     "data": {
      "text/plain": [
       "[['Hylidae', 'Hypsiboas', 'HypsiboasCordobae'],\n",
       " ['Hylidae', 'Hypsiboas', 'HypsiboasCinerascens'],\n",
       " ['Leptodactylidae', 'Adenomera', 'AdenomeraHylaedactylus'],\n",
       " ['Leptodactylidae', 'Adenomera', 'AdenomeraAndre']]"
      ]
     },
     "execution_count": 40,
     "metadata": {},
     "output_type": "execute_result"
    }
   ],
   "source": [
    "result_label_list = []\n",
    "for i in range(0,best_k):\n",
    "    result_label_list.append([])\n",
    "\n",
    "for i in range(0,best_k):\n",
    "    for j in range(0,3):\n",
    "        each_triple = total_list[i][j]\n",
    "        max_key = max(each_triple, key=each_triple.get)\n",
    "        #max_value = each_triple.get(max_key)\n",
    "        #result_label_list[i].append([max_key,max_value])\n",
    "        result_label_list[i].append(max_key)\n",
    "\n",
    "result_label_list"
   ]
  },
  {
   "cell_type": "code",
   "execution_count": 46,
   "metadata": {},
   "outputs": [],
   "source": [
    "family_p_list = []\n",
    "genus_p_list = []\n",
    "species_p_list = []\n",
    "for i in range(0,len(labels)):\n",
    "    each_label = labels[i]\n",
    "    family_p_list.append(result_label_list[each_label][0])\n",
    "    genus_p_list.append(result_label_list[each_label][1])\n",
    "    species_p_list.append(result_label_list[each_label][2])\n"
   ]
  },
  {
   "cell_type": "code",
   "execution_count": 47,
   "metadata": {},
   "outputs": [
    {
     "name": "stdout",
     "output_type": "stream",
     "text": [
      "The exact number of match is 17260\n",
      "The hamming score is 0.7996293722492471\n",
      "The hamming loss is 0.20037062775075284\n"
     ]
    }
   ],
   "source": [
    "number_of_test = len(family_p_list)*3\n",
    "family_match = get_match_number(family_p_list,Y['Family'])\n",
    "genus_match = get_match_number(genus_p_list,Y['Genus'])\n",
    "species_match = get_match_number(species_p_list,Y['Species'])\n",
    "total_match = family_match+genus_match+species_match\n",
    "hamming_distance = number_of_test-total_match\n",
    "hamming_score = total_match/number_of_test\n",
    "hamming_loss=hamming_distance/number_of_test\n",
    "print('The exact number of match is '+str(total_match))\n",
    "print('The hamming score is '+str(hamming_score))\n",
    "print('The hamming loss is '+str(hamming_loss))"
   ]
  },
  {
   "cell_type": "code",
   "execution_count": null,
   "metadata": {},
   "outputs": [],
   "source": []
  },
  {
   "cell_type": "code",
   "execution_count": 43,
   "metadata": {},
   "outputs": [
    {
     "data": {
      "text/plain": [
       "7195"
      ]
     },
     "execution_count": 43,
     "metadata": {},
     "output_type": "execute_result"
    }
   ],
   "source": [
    "len(labels)"
   ]
  },
  {
   "cell_type": "code",
   "execution_count": 41,
   "metadata": {},
   "outputs": [
    {
     "data": {
      "text/html": [
       "<div>\n",
       "<style scoped>\n",
       "    .dataframe tbody tr th:only-of-type {\n",
       "        vertical-align: middle;\n",
       "    }\n",
       "\n",
       "    .dataframe tbody tr th {\n",
       "        vertical-align: top;\n",
       "    }\n",
       "\n",
       "    .dataframe thead th {\n",
       "        text-align: right;\n",
       "    }\n",
       "</style>\n",
       "<table border=\"1\" class=\"dataframe\">\n",
       "  <thead>\n",
       "    <tr style=\"text-align: right;\">\n",
       "      <th></th>\n",
       "      <th>family_p</th>\n",
       "      <th>genus_p</th>\n",
       "      <th>species_p</th>\n",
       "    </tr>\n",
       "  </thead>\n",
       "  <tbody>\n",
       "  </tbody>\n",
       "</table>\n",
       "</div>"
      ],
      "text/plain": [
       "Empty DataFrame\n",
       "Columns: [family_p, genus_p, species_p]\n",
       "Index: []"
      ]
     },
     "execution_count": 41,
     "metadata": {},
     "output_type": "execute_result"
    }
   ],
   "source": [
    "df_predict = pd.DataFrame(columns=['family_p', 'genus_p', 'species_p'])\n",
    "df_predict"
   ]
  },
  {
   "cell_type": "code",
   "execution_count": 36,
   "metadata": {},
   "outputs": [
    {
     "data": {
      "text/plain": [
       "[[{'Leptodactylidae': 286,\n",
       "   'Dendrobatidae': 3,\n",
       "   'Hylidae': 1272,\n",
       "   'Bufonidae': 27},\n",
       "  {'Adenomera': 26,\n",
       "   'Ameerega': 3,\n",
       "   'Dendropsophus': 27,\n",
       "   'Hypsiboas': 1054,\n",
       "   'Leptodactylus': 260,\n",
       "   'Osteocephalus': 78,\n",
       "   'Rhinella': 27,\n",
       "   'Scinax': 113},\n",
       "  {'AdenomeraAndre': 23,\n",
       "   'Ameeregatrivittata': 3,\n",
       "   'AdenomeraHylaedactylus': 3,\n",
       "   'HylaMinuta': 27,\n",
       "   'HypsiboasCinerascens': 20,\n",
       "   'HypsiboasCordobae': 1034,\n",
       "   'LeptodactylusFuscus': 260,\n",
       "   'OsteocephalusOophagus': 78,\n",
       "   'Rhinellagranulosa': 27,\n",
       "   'ScinaxRuber': 113}],\n",
       " [{'Leptodactylidae': 17, 'Hylidae': 577, 'Bufonidae': 3},\n",
       "  {'Adenomera': 12,\n",
       "   'Hypsiboas': 533,\n",
       "   'Leptodactylus': 5,\n",
       "   'Osteocephalus': 36,\n",
       "   'Rhinella': 3,\n",
       "   'Scinax': 8},\n",
       "  {'AdenomeraAndre': 6,\n",
       "   'AdenomeraHylaedactylus': 6,\n",
       "   'HypsiboasCinerascens': 452,\n",
       "   'HypsiboasCordobae': 81,\n",
       "   'LeptodactylusFuscus': 5,\n",
       "   'OsteocephalusOophagus': 36,\n",
       "   'Rhinellagranulosa': 3,\n",
       "   'ScinaxRuber': 8}],\n",
       " [{'Leptodactylidae': 3468, 'Hylidae': 106},\n",
       "  {'Adenomera': 3466,\n",
       "   'Dendropsophus': 99,\n",
       "   'Hypsiboas': 6,\n",
       "   'Leptodactylus': 2,\n",
       "   'Scinax': 1},\n",
       "  {'AdenomeraHylaedactylus': 3466,\n",
       "   'HylaMinuta': 99,\n",
       "   'HypsiboasCordobae': 6,\n",
       "   'LeptodactylusFuscus': 2,\n",
       "   'ScinaxRuber': 1}],\n",
       " [{'Leptodactylidae': 649,\n",
       "   'Dendrobatidae': 539,\n",
       "   'Hylidae': 210,\n",
       "   'Bufonidae': 38},\n",
       "  {'Adenomera': 646,\n",
       "   'Ameerega': 539,\n",
       "   'Dendropsophus': 184,\n",
       "   'Leptodactylus': 3,\n",
       "   'Rhinella': 38,\n",
       "   'Scinax': 26},\n",
       "  {'AdenomeraAndre': 643,\n",
       "   'Ameeregatrivittata': 539,\n",
       "   'AdenomeraHylaedactylus': 3,\n",
       "   'HylaMinuta': 184,\n",
       "   'LeptodactylusFuscus': 3,\n",
       "   'Rhinellagranulosa': 38,\n",
       "   'ScinaxRuber': 26}]]"
      ]
     },
     "execution_count": 36,
     "metadata": {},
     "output_type": "execute_result"
    }
   ],
   "source": [
    "total_list"
   ]
  },
  {
   "cell_type": "code",
   "execution_count": null,
   "metadata": {},
   "outputs": [],
   "source": [
    "maximum = max(mydict, key=mydict.get)\n",
    "max_key = max(mydict, key=mydict.get)\n"
   ]
  },
  {
   "cell_type": "code",
   "execution_count": 26,
   "metadata": {},
   "outputs": [
    {
     "data": {
      "text/plain": [
       "[{}, {1: 3}]"
      ]
     },
     "execution_count": 26,
     "metadata": {},
     "output_type": "execute_result"
    }
   ],
   "source": [
    "list1 =[]\n",
    "for i in range(0,2):\n",
    "    data = {}\n",
    "    list1.append(data)\n",
    "    \n",
    "list1[1]={1:3}\n",
    "list1"
   ]
  },
  {
   "cell_type": "code",
   "execution_count": 64,
   "metadata": {},
   "outputs": [
    {
     "data": {
      "text/html": [
       "<div>\n",
       "<style scoped>\n",
       "    .dataframe tbody tr th:only-of-type {\n",
       "        vertical-align: middle;\n",
       "    }\n",
       "\n",
       "    .dataframe tbody tr th {\n",
       "        vertical-align: top;\n",
       "    }\n",
       "\n",
       "    .dataframe thead th {\n",
       "        text-align: right;\n",
       "    }\n",
       "</style>\n",
       "<table border=\"1\" class=\"dataframe\">\n",
       "  <thead>\n",
       "    <tr style=\"text-align: right;\">\n",
       "      <th></th>\n",
       "      <th>MFCCs_ 1</th>\n",
       "      <th>MFCCs_ 2</th>\n",
       "      <th>MFCCs_ 3</th>\n",
       "      <th>MFCCs_ 4</th>\n",
       "      <th>MFCCs_ 5</th>\n",
       "      <th>MFCCs_ 6</th>\n",
       "      <th>MFCCs_ 7</th>\n",
       "      <th>MFCCs_ 8</th>\n",
       "      <th>MFCCs_ 9</th>\n",
       "      <th>MFCCs_10</th>\n",
       "      <th>...</th>\n",
       "      <th>MFCCs_13</th>\n",
       "      <th>MFCCs_14</th>\n",
       "      <th>MFCCs_15</th>\n",
       "      <th>MFCCs_16</th>\n",
       "      <th>MFCCs_17</th>\n",
       "      <th>MFCCs_18</th>\n",
       "      <th>MFCCs_19</th>\n",
       "      <th>MFCCs_20</th>\n",
       "      <th>MFCCs_21</th>\n",
       "      <th>MFCCs_22</th>\n",
       "    </tr>\n",
       "  </thead>\n",
       "  <tbody>\n",
       "    <tr>\n",
       "      <th>0</th>\n",
       "      <td>1.0</td>\n",
       "      <td>0.152936</td>\n",
       "      <td>-0.105586</td>\n",
       "      <td>0.200722</td>\n",
       "      <td>0.317201</td>\n",
       "      <td>0.260764</td>\n",
       "      <td>0.100945</td>\n",
       "      <td>-0.150063</td>\n",
       "      <td>-0.171128</td>\n",
       "      <td>0.124676</td>\n",
       "      <td>...</td>\n",
       "      <td>-0.156436</td>\n",
       "      <td>0.082245</td>\n",
       "      <td>0.135752</td>\n",
       "      <td>-0.024017</td>\n",
       "      <td>-0.108351</td>\n",
       "      <td>-0.077623</td>\n",
       "      <td>-0.009568</td>\n",
       "      <td>0.057684</td>\n",
       "      <td>0.118680</td>\n",
       "      <td>0.014038</td>\n",
       "    </tr>\n",
       "    <tr>\n",
       "      <th>1</th>\n",
       "      <td>1.0</td>\n",
       "      <td>0.171534</td>\n",
       "      <td>-0.098975</td>\n",
       "      <td>0.268425</td>\n",
       "      <td>0.338672</td>\n",
       "      <td>0.268353</td>\n",
       "      <td>0.060835</td>\n",
       "      <td>-0.222475</td>\n",
       "      <td>-0.207693</td>\n",
       "      <td>0.170883</td>\n",
       "      <td>...</td>\n",
       "      <td>-0.254341</td>\n",
       "      <td>0.022786</td>\n",
       "      <td>0.163320</td>\n",
       "      <td>0.012022</td>\n",
       "      <td>-0.090974</td>\n",
       "      <td>-0.056510</td>\n",
       "      <td>-0.035303</td>\n",
       "      <td>0.020140</td>\n",
       "      <td>0.082263</td>\n",
       "      <td>0.029056</td>\n",
       "    </tr>\n",
       "    <tr>\n",
       "      <th>2</th>\n",
       "      <td>1.0</td>\n",
       "      <td>0.152317</td>\n",
       "      <td>-0.082973</td>\n",
       "      <td>0.287128</td>\n",
       "      <td>0.276014</td>\n",
       "      <td>0.189867</td>\n",
       "      <td>0.008714</td>\n",
       "      <td>-0.242234</td>\n",
       "      <td>-0.219153</td>\n",
       "      <td>0.232538</td>\n",
       "      <td>...</td>\n",
       "      <td>-0.237384</td>\n",
       "      <td>0.050791</td>\n",
       "      <td>0.207338</td>\n",
       "      <td>0.083536</td>\n",
       "      <td>-0.050691</td>\n",
       "      <td>-0.023590</td>\n",
       "      <td>-0.066722</td>\n",
       "      <td>-0.025083</td>\n",
       "      <td>0.099108</td>\n",
       "      <td>0.077162</td>\n",
       "    </tr>\n",
       "    <tr>\n",
       "      <th>3</th>\n",
       "      <td>1.0</td>\n",
       "      <td>0.224392</td>\n",
       "      <td>0.118985</td>\n",
       "      <td>0.329432</td>\n",
       "      <td>0.372088</td>\n",
       "      <td>0.361005</td>\n",
       "      <td>0.015501</td>\n",
       "      <td>-0.194347</td>\n",
       "      <td>-0.098181</td>\n",
       "      <td>0.270375</td>\n",
       "      <td>...</td>\n",
       "      <td>-0.317084</td>\n",
       "      <td>-0.011567</td>\n",
       "      <td>0.100413</td>\n",
       "      <td>-0.050224</td>\n",
       "      <td>-0.136009</td>\n",
       "      <td>-0.177037</td>\n",
       "      <td>-0.130498</td>\n",
       "      <td>-0.054766</td>\n",
       "      <td>-0.018691</td>\n",
       "      <td>0.023954</td>\n",
       "    </tr>\n",
       "    <tr>\n",
       "      <th>4</th>\n",
       "      <td>1.0</td>\n",
       "      <td>0.087817</td>\n",
       "      <td>-0.068345</td>\n",
       "      <td>0.306967</td>\n",
       "      <td>0.330923</td>\n",
       "      <td>0.249144</td>\n",
       "      <td>0.006884</td>\n",
       "      <td>-0.265423</td>\n",
       "      <td>-0.172700</td>\n",
       "      <td>0.266434</td>\n",
       "      <td>...</td>\n",
       "      <td>-0.298524</td>\n",
       "      <td>0.037439</td>\n",
       "      <td>0.219153</td>\n",
       "      <td>0.062837</td>\n",
       "      <td>-0.048885</td>\n",
       "      <td>-0.053074</td>\n",
       "      <td>-0.088550</td>\n",
       "      <td>-0.031346</td>\n",
       "      <td>0.108610</td>\n",
       "      <td>0.079244</td>\n",
       "    </tr>\n",
       "    <tr>\n",
       "      <th>...</th>\n",
       "      <td>...</td>\n",
       "      <td>...</td>\n",
       "      <td>...</td>\n",
       "      <td>...</td>\n",
       "      <td>...</td>\n",
       "      <td>...</td>\n",
       "      <td>...</td>\n",
       "      <td>...</td>\n",
       "      <td>...</td>\n",
       "      <td>...</td>\n",
       "      <td>...</td>\n",
       "      <td>...</td>\n",
       "      <td>...</td>\n",
       "      <td>...</td>\n",
       "      <td>...</td>\n",
       "      <td>...</td>\n",
       "      <td>...</td>\n",
       "      <td>...</td>\n",
       "      <td>...</td>\n",
       "      <td>...</td>\n",
       "      <td>...</td>\n",
       "    </tr>\n",
       "    <tr>\n",
       "      <th>7190</th>\n",
       "      <td>1.0</td>\n",
       "      <td>-0.554504</td>\n",
       "      <td>-0.337717</td>\n",
       "      <td>0.035533</td>\n",
       "      <td>0.034511</td>\n",
       "      <td>0.443451</td>\n",
       "      <td>0.093889</td>\n",
       "      <td>-0.100753</td>\n",
       "      <td>0.037087</td>\n",
       "      <td>0.081075</td>\n",
       "      <td>...</td>\n",
       "      <td>-0.145668</td>\n",
       "      <td>-0.059364</td>\n",
       "      <td>0.024206</td>\n",
       "      <td>-0.000861</td>\n",
       "      <td>0.069430</td>\n",
       "      <td>0.071001</td>\n",
       "      <td>0.021591</td>\n",
       "      <td>0.052449</td>\n",
       "      <td>-0.021860</td>\n",
       "      <td>-0.079860</td>\n",
       "    </tr>\n",
       "    <tr>\n",
       "      <th>7191</th>\n",
       "      <td>1.0</td>\n",
       "      <td>-0.517273</td>\n",
       "      <td>-0.370574</td>\n",
       "      <td>0.030673</td>\n",
       "      <td>0.068097</td>\n",
       "      <td>0.402890</td>\n",
       "      <td>0.096628</td>\n",
       "      <td>-0.116460</td>\n",
       "      <td>0.063727</td>\n",
       "      <td>0.089034</td>\n",
       "      <td>...</td>\n",
       "      <td>-0.164675</td>\n",
       "      <td>-0.105600</td>\n",
       "      <td>0.030767</td>\n",
       "      <td>0.006457</td>\n",
       "      <td>0.061127</td>\n",
       "      <td>0.068978</td>\n",
       "      <td>0.017745</td>\n",
       "      <td>0.046461</td>\n",
       "      <td>-0.015418</td>\n",
       "      <td>-0.101892</td>\n",
       "    </tr>\n",
       "    <tr>\n",
       "      <th>7192</th>\n",
       "      <td>1.0</td>\n",
       "      <td>-0.582557</td>\n",
       "      <td>-0.343237</td>\n",
       "      <td>0.029468</td>\n",
       "      <td>0.064179</td>\n",
       "      <td>0.385596</td>\n",
       "      <td>0.114905</td>\n",
       "      <td>-0.103317</td>\n",
       "      <td>0.070370</td>\n",
       "      <td>0.081317</td>\n",
       "      <td>...</td>\n",
       "      <td>-0.150025</td>\n",
       "      <td>-0.078615</td>\n",
       "      <td>0.024861</td>\n",
       "      <td>0.008696</td>\n",
       "      <td>0.082474</td>\n",
       "      <td>0.077771</td>\n",
       "      <td>-0.009688</td>\n",
       "      <td>0.027834</td>\n",
       "      <td>-0.000531</td>\n",
       "      <td>-0.080425</td>\n",
       "    </tr>\n",
       "    <tr>\n",
       "      <th>7193</th>\n",
       "      <td>1.0</td>\n",
       "      <td>-0.519497</td>\n",
       "      <td>-0.307553</td>\n",
       "      <td>-0.004922</td>\n",
       "      <td>0.072865</td>\n",
       "      <td>0.377131</td>\n",
       "      <td>0.086866</td>\n",
       "      <td>-0.115799</td>\n",
       "      <td>0.056979</td>\n",
       "      <td>0.089316</td>\n",
       "      <td>...</td>\n",
       "      <td>-0.153120</td>\n",
       "      <td>-0.075320</td>\n",
       "      <td>0.022903</td>\n",
       "      <td>0.001924</td>\n",
       "      <td>0.051796</td>\n",
       "      <td>0.069073</td>\n",
       "      <td>0.017963</td>\n",
       "      <td>0.041803</td>\n",
       "      <td>-0.027911</td>\n",
       "      <td>-0.096895</td>\n",
       "    </tr>\n",
       "    <tr>\n",
       "      <th>7194</th>\n",
       "      <td>1.0</td>\n",
       "      <td>-0.508833</td>\n",
       "      <td>-0.324106</td>\n",
       "      <td>0.062068</td>\n",
       "      <td>0.078211</td>\n",
       "      <td>0.397188</td>\n",
       "      <td>0.094596</td>\n",
       "      <td>-0.117672</td>\n",
       "      <td>0.058874</td>\n",
       "      <td>0.076180</td>\n",
       "      <td>...</td>\n",
       "      <td>-0.150554</td>\n",
       "      <td>-0.073415</td>\n",
       "      <td>0.042517</td>\n",
       "      <td>0.004158</td>\n",
       "      <td>0.061455</td>\n",
       "      <td>0.072983</td>\n",
       "      <td>-0.003980</td>\n",
       "      <td>0.031560</td>\n",
       "      <td>-0.029355</td>\n",
       "      <td>-0.087910</td>\n",
       "    </tr>\n",
       "  </tbody>\n",
       "</table>\n",
       "<p>7195 rows × 22 columns</p>\n",
       "</div>"
      ],
      "text/plain": [
       "      MFCCs_ 1  MFCCs_ 2  MFCCs_ 3  MFCCs_ 4  MFCCs_ 5  MFCCs_ 6  MFCCs_ 7  \\\n",
       "0          1.0  0.152936 -0.105586  0.200722  0.317201  0.260764  0.100945   \n",
       "1          1.0  0.171534 -0.098975  0.268425  0.338672  0.268353  0.060835   \n",
       "2          1.0  0.152317 -0.082973  0.287128  0.276014  0.189867  0.008714   \n",
       "3          1.0  0.224392  0.118985  0.329432  0.372088  0.361005  0.015501   \n",
       "4          1.0  0.087817 -0.068345  0.306967  0.330923  0.249144  0.006884   \n",
       "...        ...       ...       ...       ...       ...       ...       ...   \n",
       "7190       1.0 -0.554504 -0.337717  0.035533  0.034511  0.443451  0.093889   \n",
       "7191       1.0 -0.517273 -0.370574  0.030673  0.068097  0.402890  0.096628   \n",
       "7192       1.0 -0.582557 -0.343237  0.029468  0.064179  0.385596  0.114905   \n",
       "7193       1.0 -0.519497 -0.307553 -0.004922  0.072865  0.377131  0.086866   \n",
       "7194       1.0 -0.508833 -0.324106  0.062068  0.078211  0.397188  0.094596   \n",
       "\n",
       "      MFCCs_ 8  MFCCs_ 9  MFCCs_10  ...  MFCCs_13  MFCCs_14  MFCCs_15  \\\n",
       "0    -0.150063 -0.171128  0.124676  ... -0.156436  0.082245  0.135752   \n",
       "1    -0.222475 -0.207693  0.170883  ... -0.254341  0.022786  0.163320   \n",
       "2    -0.242234 -0.219153  0.232538  ... -0.237384  0.050791  0.207338   \n",
       "3    -0.194347 -0.098181  0.270375  ... -0.317084 -0.011567  0.100413   \n",
       "4    -0.265423 -0.172700  0.266434  ... -0.298524  0.037439  0.219153   \n",
       "...        ...       ...       ...  ...       ...       ...       ...   \n",
       "7190 -0.100753  0.037087  0.081075  ... -0.145668 -0.059364  0.024206   \n",
       "7191 -0.116460  0.063727  0.089034  ... -0.164675 -0.105600  0.030767   \n",
       "7192 -0.103317  0.070370  0.081317  ... -0.150025 -0.078615  0.024861   \n",
       "7193 -0.115799  0.056979  0.089316  ... -0.153120 -0.075320  0.022903   \n",
       "7194 -0.117672  0.058874  0.076180  ... -0.150554 -0.073415  0.042517   \n",
       "\n",
       "      MFCCs_16  MFCCs_17  MFCCs_18  MFCCs_19  MFCCs_20  MFCCs_21  MFCCs_22  \n",
       "0    -0.024017 -0.108351 -0.077623 -0.009568  0.057684  0.118680  0.014038  \n",
       "1     0.012022 -0.090974 -0.056510 -0.035303  0.020140  0.082263  0.029056  \n",
       "2     0.083536 -0.050691 -0.023590 -0.066722 -0.025083  0.099108  0.077162  \n",
       "3    -0.050224 -0.136009 -0.177037 -0.130498 -0.054766 -0.018691  0.023954  \n",
       "4     0.062837 -0.048885 -0.053074 -0.088550 -0.031346  0.108610  0.079244  \n",
       "...        ...       ...       ...       ...       ...       ...       ...  \n",
       "7190 -0.000861  0.069430  0.071001  0.021591  0.052449 -0.021860 -0.079860  \n",
       "7191  0.006457  0.061127  0.068978  0.017745  0.046461 -0.015418 -0.101892  \n",
       "7192  0.008696  0.082474  0.077771 -0.009688  0.027834 -0.000531 -0.080425  \n",
       "7193  0.001924  0.051796  0.069073  0.017963  0.041803 -0.027911 -0.096895  \n",
       "7194  0.004158  0.061455  0.072983 -0.003980  0.031560 -0.029355 -0.087910  \n",
       "\n",
       "[7195 rows x 22 columns]"
      ]
     },
     "execution_count": 64,
     "metadata": {},
     "output_type": "execute_result"
    }
   ],
   "source": [
    "X"
   ]
  },
  {
   "cell_type": "markdown",
   "metadata": {},
   "source": [
    "<h5>part (e)<h5>"
   ]
  },
  {
   "cell_type": "markdown",
   "metadata": {},
   "source": [
    "<h5>part (f)<h5>"
   ]
  }
 ],
 "metadata": {
  "kernelspec": {
   "display_name": "Python 3",
   "language": "python",
   "name": "python3"
  },
  "language_info": {
   "codemirror_mode": {
    "name": "ipython",
    "version": 3
   },
   "file_extension": ".py",
   "mimetype": "text/x-python",
   "name": "python",
   "nbconvert_exporter": "python",
   "pygments_lexer": "ipython3",
   "version": "3.8.3"
  }
 },
 "nbformat": 4,
 "nbformat_minor": 4
}
